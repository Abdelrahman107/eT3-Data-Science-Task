{
 "cells": [
  {
   "cell_type": "markdown",
   "metadata": {},
   "source": [
    "## Importing Necessary Libraries"
   ]
  },
  {
   "cell_type": "markdown",
   "metadata": {},
   "source": [
    "# Data Science Task"
   ]
  },
  {
   "cell_type": "code",
   "execution_count": 144,
   "metadata": {},
   "outputs": [],
   "source": [
    "import numpy as np\n",
    "import pandas as pd\n",
    "import matplotlib.pyplot as plt\n",
    "import seaborn as sns\n",
    "import plotly.graph_objs as go\n",
    "import plotly.express as px\n",
    "import plotly.io as pio\n",
    "import plotly.offline as py\n",
    "import plotly.tools as tls"
   ]
  },
  {
   "cell_type": "markdown",
   "metadata": {},
   "source": [
    "## Import Dataset"
   ]
  },
  {
   "cell_type": "code",
   "execution_count": 145,
   "metadata": {},
   "outputs": [
    {
     "data": {
      "text/html": [
       "<div>\n",
       "<style scoped>\n",
       "    .dataframe tbody tr th:only-of-type {\n",
       "        vertical-align: middle;\n",
       "    }\n",
       "\n",
       "    .dataframe tbody tr th {\n",
       "        vertical-align: top;\n",
       "    }\n",
       "\n",
       "    .dataframe thead th {\n",
       "        text-align: right;\n",
       "    }\n",
       "</style>\n",
       "<table border=\"1\" class=\"dataframe\">\n",
       "  <thead>\n",
       "    <tr style=\"text-align: right;\">\n",
       "      <th></th>\n",
       "      <th>Beverage_category</th>\n",
       "      <th>Beverage</th>\n",
       "      <th>Beverage_prep</th>\n",
       "      <th>Calories</th>\n",
       "      <th>Total Fat (g)</th>\n",
       "      <th>Trans Fat (g)</th>\n",
       "      <th>Saturated Fat (g)</th>\n",
       "      <th>Sodium (mg)</th>\n",
       "      <th>Total Carbohydrates (g)</th>\n",
       "      <th>Cholesterol (mg)</th>\n",
       "      <th>Dietary Fibre (g)</th>\n",
       "      <th>Sugars (g)</th>\n",
       "      <th>Protein (g)</th>\n",
       "      <th>Vitamin A (% DV)</th>\n",
       "      <th>Vitamin C (% DV)</th>\n",
       "      <th>Calcium (% DV)</th>\n",
       "      <th>Iron (% DV)</th>\n",
       "      <th>Caffeine (mg)</th>\n",
       "    </tr>\n",
       "  </thead>\n",
       "  <tbody>\n",
       "    <tr>\n",
       "      <th>0</th>\n",
       "      <td>Coffee</td>\n",
       "      <td>Brewed Coffee</td>\n",
       "      <td>Short</td>\n",
       "      <td>3</td>\n",
       "      <td>0.1</td>\n",
       "      <td>0.0</td>\n",
       "      <td>0.0</td>\n",
       "      <td>0</td>\n",
       "      <td>5</td>\n",
       "      <td>0</td>\n",
       "      <td>0</td>\n",
       "      <td>0</td>\n",
       "      <td>0.3</td>\n",
       "      <td>0%</td>\n",
       "      <td>0%</td>\n",
       "      <td>0%</td>\n",
       "      <td>0%</td>\n",
       "      <td>175</td>\n",
       "    </tr>\n",
       "    <tr>\n",
       "      <th>1</th>\n",
       "      <td>Coffee</td>\n",
       "      <td>Brewed Coffee</td>\n",
       "      <td>Tall</td>\n",
       "      <td>4</td>\n",
       "      <td>0.1</td>\n",
       "      <td>0.0</td>\n",
       "      <td>0.0</td>\n",
       "      <td>0</td>\n",
       "      <td>10</td>\n",
       "      <td>0</td>\n",
       "      <td>0</td>\n",
       "      <td>0</td>\n",
       "      <td>0.5</td>\n",
       "      <td>0%</td>\n",
       "      <td>0%</td>\n",
       "      <td>0%</td>\n",
       "      <td>0%</td>\n",
       "      <td>260</td>\n",
       "    </tr>\n",
       "    <tr>\n",
       "      <th>2</th>\n",
       "      <td>Coffee</td>\n",
       "      <td>Brewed Coffee</td>\n",
       "      <td>Grande</td>\n",
       "      <td>5</td>\n",
       "      <td>0.1</td>\n",
       "      <td>0.0</td>\n",
       "      <td>0.0</td>\n",
       "      <td>0</td>\n",
       "      <td>10</td>\n",
       "      <td>0</td>\n",
       "      <td>0</td>\n",
       "      <td>0</td>\n",
       "      <td>1.0</td>\n",
       "      <td>0%</td>\n",
       "      <td>0%</td>\n",
       "      <td>0%</td>\n",
       "      <td>0%</td>\n",
       "      <td>330</td>\n",
       "    </tr>\n",
       "    <tr>\n",
       "      <th>3</th>\n",
       "      <td>Coffee</td>\n",
       "      <td>Brewed Coffee</td>\n",
       "      <td>Venti</td>\n",
       "      <td>5</td>\n",
       "      <td>0.1</td>\n",
       "      <td>0.0</td>\n",
       "      <td>0.0</td>\n",
       "      <td>0</td>\n",
       "      <td>10</td>\n",
       "      <td>0</td>\n",
       "      <td>0</td>\n",
       "      <td>0</td>\n",
       "      <td>1.0</td>\n",
       "      <td>0%</td>\n",
       "      <td>0%</td>\n",
       "      <td>2%</td>\n",
       "      <td>0%</td>\n",
       "      <td>410</td>\n",
       "    </tr>\n",
       "    <tr>\n",
       "      <th>4</th>\n",
       "      <td>Classic Espresso Drinks</td>\n",
       "      <td>Caffè Latte</td>\n",
       "      <td>Short Nonfat Milk</td>\n",
       "      <td>70</td>\n",
       "      <td>0.1</td>\n",
       "      <td>0.1</td>\n",
       "      <td>0.0</td>\n",
       "      <td>5</td>\n",
       "      <td>75</td>\n",
       "      <td>10</td>\n",
       "      <td>0</td>\n",
       "      <td>9</td>\n",
       "      <td>6.0</td>\n",
       "      <td>10%</td>\n",
       "      <td>0%</td>\n",
       "      <td>20%</td>\n",
       "      <td>0%</td>\n",
       "      <td>75</td>\n",
       "    </tr>\n",
       "  </tbody>\n",
       "</table>\n",
       "</div>"
      ],
      "text/plain": [
       "         Beverage_category       Beverage      Beverage_prep  Calories  \\\n",
       "0                   Coffee  Brewed Coffee              Short         3   \n",
       "1                   Coffee  Brewed Coffee               Tall         4   \n",
       "2                   Coffee  Brewed Coffee             Grande         5   \n",
       "3                   Coffee  Brewed Coffee              Venti         5   \n",
       "4  Classic Espresso Drinks    Caffè Latte  Short Nonfat Milk        70   \n",
       "\n",
       "   Total Fat (g)  Trans Fat (g)   Saturated Fat (g)   Sodium (mg)  \\\n",
       "0            0.1             0.0                0.0             0   \n",
       "1            0.1             0.0                0.0             0   \n",
       "2            0.1             0.0                0.0             0   \n",
       "3            0.1             0.0                0.0             0   \n",
       "4            0.1             0.1                0.0             5   \n",
       "\n",
       "    Total Carbohydrates (g)   Cholesterol (mg)   Dietary Fibre (g)  \\\n",
       "0                          5                 0                   0   \n",
       "1                         10                 0                   0   \n",
       "2                         10                 0                   0   \n",
       "3                         10                 0                   0   \n",
       "4                         75                10                   0   \n",
       "\n",
       "    Sugars (g)   Protein (g)  Vitamin A (% DV)  Vitamin C (% DV)  \\\n",
       "0            0            0.3                0%               0%   \n",
       "1            0            0.5                0%               0%   \n",
       "2            0            1.0                0%               0%   \n",
       "3            0            1.0                0%               0%   \n",
       "4            9            6.0               10%               0%   \n",
       "\n",
       "   Calcium (% DV)  Iron (% DV)  Caffeine (mg)  \n",
       "0               0%           0%           175  \n",
       "1               0%           0%           260  \n",
       "2               0%           0%           330  \n",
       "3               2%           0%           410  \n",
       "4              20%           0%            75  "
      ]
     },
     "execution_count": 145,
     "metadata": {},
     "output_type": "execute_result"
    }
   ],
   "source": [
    "file_path = 'drinkMenu.csv'\n",
    "df = pd.read_csv(file_path)\n",
    "df.head()"
   ]
  },
  {
   "cell_type": "markdown",
   "metadata": {},
   "source": [
    "## Exploring Data"
   ]
  },
  {
   "cell_type": "code",
   "execution_count": 146,
   "metadata": {},
   "outputs": [
    {
     "data": {
      "text/plain": [
       "Beverage_category            242\n",
       "Beverage                     242\n",
       "Beverage_prep                242\n",
       "Calories                     242\n",
       " Total Fat (g)               242\n",
       "Trans Fat (g)                242\n",
       "Saturated Fat (g)            242\n",
       " Sodium (mg)                 242\n",
       " Total Carbohydrates (g)     242\n",
       "Cholesterol (mg)             242\n",
       " Dietary Fibre (g)           242\n",
       " Sugars (g)                  242\n",
       " Protein (g)                 242\n",
       "Vitamin A (% DV)             242\n",
       "Vitamin C (% DV)             242\n",
       " Calcium (% DV)              242\n",
       "Iron (% DV)                  242\n",
       "Caffeine (mg)                241\n",
       "dtype: int64"
      ]
     },
     "execution_count": 146,
     "metadata": {},
     "output_type": "execute_result"
    }
   ],
   "source": [
    "df.count()"
   ]
  },
  {
   "cell_type": "code",
   "execution_count": 147,
   "metadata": {},
   "outputs": [
    {
     "name": "stdout",
     "output_type": "stream",
     "text": [
      "<class 'pandas.core.frame.DataFrame'>\n",
      "RangeIndex: 242 entries, 0 to 241\n",
      "Data columns (total 18 columns):\n",
      " #   Column                     Non-Null Count  Dtype  \n",
      "---  ------                     --------------  -----  \n",
      " 0   Beverage_category          242 non-null    object \n",
      " 1   Beverage                   242 non-null    object \n",
      " 2   Beverage_prep              242 non-null    object \n",
      " 3   Calories                   242 non-null    int64  \n",
      " 4    Total Fat (g)             242 non-null    object \n",
      " 5   Trans Fat (g)              242 non-null    float64\n",
      " 6   Saturated Fat (g)          242 non-null    float64\n",
      " 7    Sodium (mg)               242 non-null    int64  \n",
      " 8    Total Carbohydrates (g)   242 non-null    int64  \n",
      " 9   Cholesterol (mg)           242 non-null    int64  \n",
      " 10   Dietary Fibre (g)         242 non-null    int64  \n",
      " 11   Sugars (g)                242 non-null    int64  \n",
      " 12   Protein (g)               242 non-null    float64\n",
      " 13  Vitamin A (% DV)           242 non-null    object \n",
      " 14  Vitamin C (% DV)           242 non-null    object \n",
      " 15   Calcium (% DV)            242 non-null    object \n",
      " 16  Iron (% DV)                242 non-null    object \n",
      " 17  Caffeine (mg)              241 non-null    object \n",
      "dtypes: float64(3), int64(6), object(9)\n",
      "memory usage: 34.2+ KB\n"
     ]
    }
   ],
   "source": [
    "df.info()"
   ]
  },
  {
   "cell_type": "code",
   "execution_count": 148,
   "metadata": {},
   "outputs": [
    {
     "data": {
      "text/plain": [
       "Beverage_category            0\n",
       "Beverage                     0\n",
       "Beverage_prep                0\n",
       "Calories                     0\n",
       " Total Fat (g)               0\n",
       "Trans Fat (g)                0\n",
       "Saturated Fat (g)            0\n",
       " Sodium (mg)                 0\n",
       " Total Carbohydrates (g)     0\n",
       "Cholesterol (mg)             0\n",
       " Dietary Fibre (g)           0\n",
       " Sugars (g)                  0\n",
       " Protein (g)                 0\n",
       "Vitamin A (% DV)             0\n",
       "Vitamin C (% DV)             0\n",
       " Calcium (% DV)              0\n",
       "Iron (% DV)                  0\n",
       "Caffeine (mg)                1\n",
       "dtype: int64"
      ]
     },
     "execution_count": 148,
     "metadata": {},
     "output_type": "execute_result"
    }
   ],
   "source": [
    "df.isnull().sum()"
   ]
  },
  {
   "cell_type": "markdown",
   "metadata": {},
   "source": [
    "## Data Preparation"
   ]
  },
  {
   "cell_type": "markdown",
   "metadata": {},
   "source": [
    "## Remove Duplicates"
   ]
  },
  {
   "cell_type": "code",
   "execution_count": 149,
   "metadata": {},
   "outputs": [
    {
     "data": {
      "text/plain": [
       "0"
      ]
     },
     "execution_count": 149,
     "metadata": {},
     "output_type": "execute_result"
    }
   ],
   "source": [
    "# check if there are any duplicates\n",
    "df.duplicated().sum()"
   ]
  },
  {
   "cell_type": "code",
   "execution_count": 150,
   "metadata": {},
   "outputs": [],
   "source": [
    "# removes diplicate rows\n",
    "df.drop_duplicates(inplace=True)\n"
   ]
  },
  {
   "cell_type": "markdown",
   "metadata": {},
   "source": [
    "## Fill null values"
   ]
  },
  {
   "cell_type": "code",
   "execution_count": 151,
   "metadata": {},
   "outputs": [
    {
     "data": {
      "text/plain": [
       "Beverage_category            0\n",
       "Beverage                     0\n",
       "Beverage_prep                0\n",
       "Calories                     0\n",
       " Total Fat (g)               0\n",
       "Trans Fat (g)                0\n",
       "Saturated Fat (g)            0\n",
       " Sodium (mg)                 0\n",
       " Total Carbohydrates (g)     0\n",
       "Cholesterol (mg)             0\n",
       " Dietary Fibre (g)           0\n",
       " Sugars (g)                  0\n",
       " Protein (g)                 0\n",
       "Vitamin A (% DV)             0\n",
       "Vitamin C (% DV)             0\n",
       " Calcium (% DV)              0\n",
       "Iron (% DV)                  0\n",
       "Caffeine (mg)                1\n",
       "dtype: int64"
      ]
     },
     "execution_count": 151,
     "metadata": {},
     "output_type": "execute_result"
    }
   ],
   "source": [
    "df.isnull().sum()\n",
    "# Caffeine column has only one null"
   ]
  },
  {
   "cell_type": "code",
   "execution_count": 152,
   "metadata": {},
   "outputs": [
    {
     "data": {
      "text/plain": [
       "Beverage_category            0\n",
       "Beverage                     0\n",
       "Beverage_prep                0\n",
       "Calories                     0\n",
       " Total Fat (g)               0\n",
       "Trans Fat (g)                0\n",
       "Saturated Fat (g)            0\n",
       " Sodium (mg)                 0\n",
       " Total Carbohydrates (g)     0\n",
       "Cholesterol (mg)             0\n",
       " Dietary Fibre (g)           0\n",
       " Sugars (g)                  0\n",
       " Protein (g)                 0\n",
       "Vitamin A (% DV)             0\n",
       "Vitamin C (% DV)             0\n",
       " Calcium (% DV)              0\n",
       "Iron (% DV)                  0\n",
       "Caffeine (mg)                0\n",
       "dtype: int64"
      ]
     },
     "execution_count": 152,
     "metadata": {},
     "output_type": "execute_result"
    }
   ],
   "source": [
    "# Replacing null value of Caffiene with zero\n",
    "df.fillna(0,inplace =True)\n",
    "df.isnull().sum()"
   ]
  },
  {
   "cell_type": "markdown",
   "metadata": {},
   "source": [
    "## Drop unnecessary Columns"
   ]
  },
  {
   "cell_type": "code",
   "execution_count": 153,
   "metadata": {},
   "outputs": [
    {
     "data": {
      "text/plain": [
       "array([[<AxesSubplot:title={'center':'Calories'}>,\n",
       "        <AxesSubplot:title={'center':'Trans Fat (g) '}>,\n",
       "        <AxesSubplot:title={'center':'Saturated Fat (g)'}>],\n",
       "       [<AxesSubplot:title={'center':' Sodium (mg)'}>,\n",
       "        <AxesSubplot:title={'center':' Total Carbohydrates (g) '}>,\n",
       "        <AxesSubplot:title={'center':'Cholesterol (mg)'}>],\n",
       "       [<AxesSubplot:title={'center':' Dietary Fibre (g)'}>,\n",
       "        <AxesSubplot:title={'center':' Sugars (g)'}>,\n",
       "        <AxesSubplot:title={'center':' Protein (g) '}>]], dtype=object)"
      ]
     },
     "execution_count": 153,
     "metadata": {},
     "output_type": "execute_result"
    },
    {
     "data": {
      "image/png": "[encoded data removed]",
      "text/plain": [
       "<Figure size 1440x1080 with 9 Axes>"
      ]
     },
     "metadata": {
      "needs_background": "light"
     },
     "output_type": "display_data"
    }
   ],
   "source": [
    "df.hist(bins=50, figsize=(20,15))"
   ]
  },
  {
   "cell_type": "code",
   "execution_count": 154,
   "metadata": {},
   "outputs": [
    {
     "data": {
      "image/png": "[encoded data removed]",
      "text/plain": [
       "<Figure size 864x720 with 2 Axes>"
      ]
     },
     "metadata": {
      "needs_background": "light"
     },
     "output_type": "display_data"
    }
   ],
   "source": [
    "plt.figure(figsize=(12,10))\n",
    "cor = df.corr()\n",
    "sns.heatmap(cor, annot=True, cmap=plt.cm.Reds)\n",
    "plt.show()"
   ]
  },
  {
   "cell_type": "code",
   "execution_count": 155,
   "metadata": {},
   "outputs": [],
   "source": [
    "# dietry fibres has lots of zero values with small number variations based on histogram\n",
    "df.drop(' Dietary Fibre (g)', axis=1,inplace=True)"
   ]
  },
  {
   "cell_type": "code",
   "execution_count": 156,
   "metadata": {},
   "outputs": [],
   "source": [
    "#trans fats has lots of zeros with small scale variation based on histogram\n",
    "df.drop('Trans Fat (g) ', axis=1,inplace=True)"
   ]
  },
  {
   "cell_type": "code",
   "execution_count": 157,
   "metadata": {},
   "outputs": [],
   "source": [
    " # saturated fat values is too small and  distributed with very small variation based on histogram\n",
    "df.drop(['Saturated Fat (g)'],inplace=True,axis=1)"
   ]
  },
  {
   "cell_type": "code",
   "execution_count": 158,
   "metadata": {},
   "outputs": [
    {
     "data": {
      "text/plain": [
       "Index(['Beverage_category', 'Beverage', 'Beverage_prep', 'Calories',\n",
       "       ' Total Fat (g)', ' Sodium (mg)', ' Total Carbohydrates (g) ',\n",
       "       'Cholesterol (mg)', ' Sugars (g)', ' Protein (g) ', 'Vitamin A (% DV) ',\n",
       "       'Vitamin C (% DV)', ' Calcium (% DV) ', 'Iron (% DV) ',\n",
       "       'Caffeine (mg)'],\n",
       "      dtype='object')"
      ]
     },
     "execution_count": 158,
     "metadata": {},
     "output_type": "execute_result"
    }
   ],
   "source": [
    "df.columns"
   ]
  },
  {
   "cell_type": "markdown",
   "metadata": {},
   "source": [
    "## Data Visualisations: Using plots to answers this questions"
   ]
  },
  {
   "cell_type": "code",
   "execution_count": 159,
   "metadata": {},
   "outputs": [
    {
     "data": {
      "text/html": [
       "<div>\n",
       "<style scoped>\n",
       "    .dataframe tbody tr th:only-of-type {\n",
       "        vertical-align: middle;\n",
       "    }\n",
       "\n",
       "    .dataframe tbody tr th {\n",
       "        vertical-align: top;\n",
       "    }\n",
       "\n",
       "    .dataframe thead th {\n",
       "        text-align: right;\n",
       "    }\n",
       "</style>\n",
       "<table border=\"1\" class=\"dataframe\">\n",
       "  <thead>\n",
       "    <tr style=\"text-align: right;\">\n",
       "      <th></th>\n",
       "      <th>Beverage_category</th>\n",
       "      <th>Beverage</th>\n",
       "      <th>Beverage_prep</th>\n",
       "      <th>Calories</th>\n",
       "      <th>Total Fat (g)</th>\n",
       "      <th>Sodium (mg)</th>\n",
       "      <th>Total Carbohydrates (g)</th>\n",
       "      <th>Cholesterol (mg)</th>\n",
       "      <th>Sugars (g)</th>\n",
       "      <th>Protein (g)</th>\n",
       "      <th>Vitamin A (% DV)</th>\n",
       "      <th>Vitamin C (% DV)</th>\n",
       "      <th>Calcium (% DV)</th>\n",
       "      <th>Iron (% DV)</th>\n",
       "      <th>Caffeine (mg)</th>\n",
       "    </tr>\n",
       "  </thead>\n",
       "  <tbody>\n",
       "    <tr>\n",
       "      <th>84</th>\n",
       "      <td>Signature Espresso Drinks</td>\n",
       "      <td>White Chocolate Mocha (Without Whipped Cream)</td>\n",
       "      <td>2% Milk</td>\n",
       "      <td>510</td>\n",
       "      <td>15</td>\n",
       "      <td>35</td>\n",
       "      <td>330</td>\n",
       "      <td>77</td>\n",
       "      <td>74</td>\n",
       "      <td>19.0</td>\n",
       "      <td>20%</td>\n",
       "      <td>4%</td>\n",
       "      <td>60%</td>\n",
       "      <td>2%</td>\n",
       "      <td>150</td>\n",
       "    </tr>\n",
       "  </tbody>\n",
       "</table>\n",
       "</div>"
      ],
      "text/plain": [
       "            Beverage_category                                       Beverage  \\\n",
       "84  Signature Espresso Drinks  White Chocolate Mocha (Without Whipped Cream)   \n",
       "\n",
       "   Beverage_prep  Calories  Total Fat (g)   Sodium (mg)  \\\n",
       "84       2% Milk       510             15            35   \n",
       "\n",
       "     Total Carbohydrates (g)   Cholesterol (mg)   Sugars (g)   Protein (g)   \\\n",
       "84                        330                77           74           19.0   \n",
       "\n",
       "   Vitamin A (% DV)  Vitamin C (% DV)  Calcium (% DV)  Iron (% DV)   \\\n",
       "84               20%               4%              60%           2%   \n",
       "\n",
       "   Caffeine (mg)  \n",
       "84           150  "
      ]
     },
     "execution_count": 159,
     "metadata": {},
     "output_type": "execute_result"
    },
    {
     "data": {
      "image/png": "[encoded data removed]",
      "text/plain": [
       "<Figure size 432x288 with 1 Axes>"
      ]
     },
     "metadata": {
      "needs_background": "light"
     },
     "output_type": "display_data"
    }
   ],
   "source": [
    "#  -Q1. Which drink has the highest calories from the dataset?\n",
    "# White Chocolate Mocha (Without Whipped Cream) 2% Milk \n",
    "x,y,_= plt.hist(df['Calories'])\n",
    "\n",
    "df.loc[df['Calories'] == y.max()]\n"
   ]
  },
  {
   "cell_type": "code",
   "execution_count": 161,
   "metadata": {},
   "outputs": [
    {
     "data": {
      "text/plain": [
       "Text(0, 0.5, 'Beverage')"
      ]
     },
     "execution_count": 161,
     "metadata": {},
     "output_type": "execute_result"
    },
    {
     "data": {
      "image/png": "[encoded data removed]",
      "text/plain": [
       "<Figure size 432x288 with 1 Axes>"
      ]
     },
     "metadata": {
      "needs_background": "light"
     },
     "output_type": "display_data"
    }
   ],
   "source": [
    "# Q1. Which drink has the highest calories from the dataset?\n",
    "# White Chocolate Mocha (Without Whipped Cream) 2% Milk \n",
    "df = df.sort_values(by='Calories', ascending=False)\n",
    "df\n",
    "\n",
    "axis = sns.barplot(y=df['Beverage'].head(40), x=df['Calories'].head(40))\n",
    "\n",
    "axis.set_xlabel('Calories', fontsize=12)\n",
    "axis.set_ylabel('Beverage', fontsize=12)\n",
    "\n"
   ]
  },
  {
   "cell_type": "code",
   "execution_count": 162,
   "metadata": {},
   "outputs": [
    {
     "data": {
      "application/vnd.plotly.v1+json": {
       "config": {
        "plotlyServerURL": "https://plot.ly"
       },
       "data": [
        {
         "alignmentgroup": "True",
         "hovertemplate": "Beverage=%{y}<br>Calories=%{x}<extra></extra>",
         "legendgroup": "White Chocolate Mocha (Without Whipped Cream)",
         "marker": {
          "color": "#636efa",
          "pattern": {
           "shape": ""
          }
         },
         "name": "White Chocolate Mocha (Without Whipped Cream)",
         "offsetgroup": "White Chocolate Mocha (Without Whipped Cream)",
         "orientation": "h",
         "showlegend": true,
         "textposition": "auto",
         "type": "bar",
         "x": [
          510,
          460,
          450,
          400,
          370,
          350,
          310,
          280,
          270,
          200,
          180,
          180
         ],
         "xaxis": "x",
         "y": [
          "White Chocolate Mocha (Without Whipped Cream)",
          "White Chocolate Mocha (Without Whipped Cream)",
          "White Chocolate Mocha (Without Whipped Cream)",
          "White Chocolate Mocha (Without Whipped Cream)",
          "White Chocolate Mocha (Without Whipped Cream)",
          "White Chocolate Mocha (Without Whipped Cream)",
          "White Chocolate Mocha (Without Whipped Cream)",
          "White Chocolate Mocha (Without Whipped Cream)",
          "White Chocolate Mocha (Without Whipped Cream)",
          "White Chocolate Mocha (Without Whipped Cream)",
          "White Chocolate Mocha (Without Whipped Cream)",
          "White Chocolate Mocha (Without Whipped Cream)"
         ],
         "yaxis": "y"
        },
        {
         "alignmentgroup": "True",
         "hovertemplate": "Beverage=%{y}<br>Calories=%{x}<extra></extra>",
         "legendgroup": "Java Chip (Without Whipped Cream)",
         "marker": {
          "color": "#EF553B",
          "pattern": {
           "shape": ""
          }
         },
         "name": "Java Chip (Without Whipped Cream)",
         "offsetgroup": "Java Chip (Without Whipped Cream)",
         "orientation": "h",
         "showlegend": true,
         "textposition": "auto",
         "type": "bar",
         "x": [
          460,
          430,
          420,
          340,
          310,
          310,
          240,
          220,
          220
         ],
         "xaxis": "x",
         "y": [
          "Java Chip (Without Whipped Cream)",
          "Java Chip (Without Whipped Cream)",
          "Java Chip (Without Whipped Cream)",
          "Java Chip (Without Whipped Cream)",
          "Java Chip (Without Whipped Cream)",
          "Java Chip (Without Whipped Cream)",
          "Java Chip (Without Whipped Cream)",
          "Java Chip (Without Whipped Cream)",
          "Java Chip (Without Whipped Cream)"
         ],
         "yaxis": "y"
        },
        {
         "alignmentgroup": "True",
         "hovertemplate": "Beverage=%{y}<br>Calories=%{x}<extra></extra>",
         "legendgroup": "Tazo® Green Tea Latte",
         "marker": {
          "color": "#00cc96",
          "pattern": {
           "shape": ""
          }
         },
         "name": "Tazo® Green Tea Latte",
         "offsetgroup": "Tazo® Green Tea Latte",
         "orientation": "h",
         "showlegend": true,
         "textposition": "auto",
         "type": "bar",
         "x": [
          450,
          390,
          370,
          350,
          310,
          290,
          260,
          230,
          210,
          170,
          140,
          130
         ],
         "xaxis": "x",
         "y": [
          "Tazo® Green Tea Latte",
          "Tazo® Green Tea Latte",
          "Tazo® Green Tea Latte",
          "Tazo® Green Tea Latte",
          "Tazo® Green Tea Latte",
          "Tazo® Green Tea Latte",
          "Tazo® Green Tea Latte",
          "Tazo® Green Tea Latte",
          "Tazo® Green Tea Latte",
          "Tazo® Green Tea Latte",
          "Tazo® Green Tea Latte",
          "Tazo® Green Tea Latte"
         ],
         "yaxis": "y"
        },
        {
         "alignmentgroup": "True",
         "hovertemplate": "Beverage=%{y}<br>Calories=%{x}<extra></extra>",
         "legendgroup": "Mocha (Without Whipped Cream)",
         "marker": {
          "color": "#ab63fa",
          "pattern": {
           "shape": ""
          }
         },
         "name": "Mocha (Without Whipped Cream)",
         "offsetgroup": "Mocha (Without Whipped Cream)",
         "orientation": "h",
         "showlegend": true,
         "textposition": "auto",
         "type": "bar",
         "x": [
          390,
          350,
          340,
          290,
          260,
          260,
          200,
          180,
          180
         ],
         "xaxis": "x",
         "y": [
          "Mocha (Without Whipped Cream)",
          "Mocha (Without Whipped Cream)",
          "Mocha (Without Whipped Cream)",
          "Mocha (Without Whipped Cream)",
          "Mocha (Without Whipped Cream)",
          "Mocha (Without Whipped Cream)",
          "Mocha (Without Whipped Cream)",
          "Mocha (Without Whipped Cream)",
          "Mocha (Without Whipped Cream)"
         ],
         "yaxis": "y"
        },
        {
         "alignmentgroup": "True",
         "hovertemplate": "Beverage=%{y}<br>Calories=%{x}<extra></extra>",
         "legendgroup": "Hot Chocolate (Without Whipped Cream)",
         "marker": {
          "color": "#FFA15A",
          "pattern": {
           "shape": ""
          }
         },
         "name": "Hot Chocolate (Without Whipped Cream)",
         "offsetgroup": "Hot Chocolate (Without Whipped Cream)",
         "orientation": "h",
         "showlegend": true,
         "textposition": "auto",
         "type": "bar",
         "x": [
          380,
          330,
          320,
          290,
          250,
          240,
          230,
          200,
          190,
          150,
          130,
          130
         ],
         "xaxis": "x",
         "y": [
          "Hot Chocolate (Without Whipped Cream)",
          "Hot Chocolate (Without Whipped Cream)",
          "Hot Chocolate (Without Whipped Cream)",
          "Hot Chocolate (Without Whipped Cream)",
          "Hot Chocolate (Without Whipped Cream)",
          "Hot Chocolate (Without Whipped Cream)",
          "Hot Chocolate (Without Whipped Cream)",
          "Hot Chocolate (Without Whipped Cream)",
          "Hot Chocolate (Without Whipped Cream)",
          "Hot Chocolate (Without Whipped Cream)",
          "Hot Chocolate (Without Whipped Cream)",
          "Hot Chocolate (Without Whipped Cream)"
         ],
         "yaxis": "y"
        },
        {
         "alignmentgroup": "True",
         "hovertemplate": "Beverage=%{y}<br>Calories=%{x}<extra></extra>",
         "legendgroup": "Caramel (Without Whipped Cream)",
         "marker": {
          "color": "#19d3f3",
          "pattern": {
           "shape": ""
          }
         },
         "name": "Caramel (Without Whipped Cream)",
         "offsetgroup": "Caramel (Without Whipped Cream)",
         "orientation": "h",
         "showlegend": true,
         "textposition": "auto",
         "type": "bar",
         "x": [
          370,
          340,
          330,
          280,
          280,
          260,
          200,
          180,
          180
         ],
         "xaxis": "x",
         "y": [
          "Caramel (Without Whipped Cream)",
          "Caramel (Without Whipped Cream)",
          "Caramel (Without Whipped Cream)",
          "Caramel (Without Whipped Cream)",
          "Caramel (Without Whipped Cream)",
          "Caramel (Without Whipped Cream)",
          "Caramel (Without Whipped Cream)",
          "Caramel (Without Whipped Cream)",
          "Caramel (Without Whipped Cream)"
         ],
         "yaxis": "y"
        },
        {
         "alignmentgroup": "True",
         "hovertemplate": "Beverage=%{y}<br>Calories=%{x}<extra></extra>",
         "legendgroup": "Caramel Apple Spice (Without Whipped Cream)",
         "marker": {
          "color": "#FF6692",
          "pattern": {
           "shape": ""
          }
         },
         "name": "Caramel Apple Spice (Without Whipped Cream)",
         "offsetgroup": "Caramel Apple Spice (Without Whipped Cream)",
         "orientation": "h",
         "showlegend": true,
         "textposition": "auto",
         "type": "bar",
         "x": [
          360,
          280,
          210,
          140
         ],
         "xaxis": "x",
         "y": [
          "Caramel Apple Spice (Without Whipped Cream)",
          "Caramel Apple Spice (Without Whipped Cream)",
          "Caramel Apple Spice (Without Whipped Cream)",
          "Caramel Apple Spice (Without Whipped Cream)"
         ],
         "yaxis": "y"
        },
        {
         "alignmentgroup": "True",
         "hovertemplate": "Beverage=%{y}<br>Calories=%{x}<extra></extra>",
         "legendgroup": "Strawberries & Crème (Without Whipped Cream)",
         "marker": {
          "color": "#B6E880",
          "pattern": {
           "shape": ""
          }
         },
         "name": "Strawberries & Crème (Without Whipped Cream)",
         "offsetgroup": "Strawberries & Crème (Without Whipped Cream)",
         "orientation": "h",
         "showlegend": true,
         "textposition": "auto",
         "type": "bar",
         "x": [
          350,
          320,
          310,
          260,
          240,
          230,
          190,
          170,
          170
         ],
         "xaxis": "x",
         "y": [
          "Strawberries & Crème (Without Whipped Cream)",
          "Strawberries & Crème (Without Whipped Cream)",
          "Strawberries & Crème (Without Whipped Cream)",
          "Strawberries & Crème (Without Whipped Cream)",
          "Strawberries & Crème (Without Whipped Cream)",
          "Strawberries & Crème (Without Whipped Cream)",
          "Strawberries & Crème (Without Whipped Cream)",
          "Strawberries & Crème (Without Whipped Cream)",
          "Strawberries & Crème (Without Whipped Cream)"
         ],
         "yaxis": "y"
        },
        {
         "alignmentgroup": "True",
         "hovertemplate": "Beverage=%{y}<br>Calories=%{x}<extra></extra>",
         "legendgroup": "Coffee",
         "marker": {
          "color": "#FF97FF",
          "pattern": {
           "shape": ""
          }
         },
         "name": "Coffee",
         "offsetgroup": "Coffee",
         "orientation": "h",
         "showlegend": true,
         "textposition": "auto",
         "type": "bar",
         "x": [
          350,
          310,
          310,
          240,
          220,
          220,
          180,
          160,
          160,
          160,
          120,
          90
         ],
         "xaxis": "x",
         "y": [
          "Coffee",
          "Coffee",
          "Coffee",
          "Coffee",
          "Coffee",
          "Coffee",
          "Coffee",
          "Coffee",
          "Coffee",
          "Coffee",
          "Coffee",
          "Coffee"
         ],
         "yaxis": "y"
        },
        {
         "alignmentgroup": "True",
         "hovertemplate": "Beverage=%{y}<br>Calories=%{x}<extra></extra>",
         "legendgroup": "Caffè Mocha (Without Whipped Cream)",
         "marker": {
          "color": "#FECB52",
          "pattern": {
           "shape": ""
          }
         },
         "name": "Caffè Mocha (Without Whipped Cream)",
         "offsetgroup": "Caffè Mocha (Without Whipped Cream)",
         "orientation": "h",
         "showlegend": true,
         "textposition": "auto",
         "type": "bar",
         "x": [
          340,
          290,
          280,
          260,
          230,
          220,
          200,
          180,
          170,
          130,
          110,
          110
         ],
         "xaxis": "x",
         "y": [
          "Caffè Mocha (Without Whipped Cream)",
          "Caffè Mocha (Without Whipped Cream)",
          "Caffè Mocha (Without Whipped Cream)",
          "Caffè Mocha (Without Whipped Cream)",
          "Caffè Mocha (Without Whipped Cream)",
          "Caffè Mocha (Without Whipped Cream)",
          "Caffè Mocha (Without Whipped Cream)",
          "Caffè Mocha (Without Whipped Cream)",
          "Caffè Mocha (Without Whipped Cream)",
          "Caffè Mocha (Without Whipped Cream)",
          "Caffè Mocha (Without Whipped Cream)",
          "Caffè Mocha (Without Whipped Cream)"
         ],
         "yaxis": "y"
        },
        {
         "alignmentgroup": "True",
         "hovertemplate": "Beverage=%{y}<br>Calories=%{x}<extra></extra>",
         "legendgroup": "Vanilla Latte (Or Other Flavoured Latte)",
         "marker": {
          "color": "#636efa",
          "pattern": {
           "shape": ""
          }
         },
         "name": "Vanilla Latte (Or Other Flavoured Latte)",
         "offsetgroup": "Vanilla Latte (Or Other Flavoured Latte)",
         "orientation": "h",
         "showlegend": true,
         "textposition": "auto",
         "type": "bar",
         "x": [
          320,
          270,
          250,
          250,
          210,
          200,
          200,
          160,
          150,
          130,
          110,
          100
         ],
         "xaxis": "x",
         "y": [
          "Vanilla Latte (Or Other Flavoured Latte)",
          "Vanilla Latte (Or Other Flavoured Latte)",
          "Vanilla Latte (Or Other Flavoured Latte)",
          "Vanilla Latte (Or Other Flavoured Latte)",
          "Vanilla Latte (Or Other Flavoured Latte)",
          "Vanilla Latte (Or Other Flavoured Latte)",
          "Vanilla Latte (Or Other Flavoured Latte)",
          "Vanilla Latte (Or Other Flavoured Latte)",
          "Vanilla Latte (Or Other Flavoured Latte)",
          "Vanilla Latte (Or Other Flavoured Latte)",
          "Vanilla Latte (Or Other Flavoured Latte)",
          "Vanilla Latte (Or Other Flavoured Latte)"
         ],
         "yaxis": "y"
        },
        {
         "alignmentgroup": "True",
         "hovertemplate": "Beverage=%{y}<br>Calories=%{x}<extra></extra>",
         "legendgroup": "Tazo® Chai Tea Latte",
         "marker": {
          "color": "#EF553B",
          "pattern": {
           "shape": ""
          }
         },
         "name": "Tazo® Chai Tea Latte",
         "offsetgroup": "Tazo® Chai Tea Latte",
         "orientation": "h",
         "showlegend": true,
         "textposition": "auto",
         "type": "bar",
         "x": [
          310,
          280,
          260,
          240,
          220,
          210,
          190,
          160,
          160,
          120,
          110,
          100
         ],
         "xaxis": "x",
         "y": [
          "Tazo® Chai Tea Latte",
          "Tazo® Chai Tea Latte",
          "Tazo® Chai Tea Latte",
          "Tazo® Chai Tea Latte",
          "Tazo® Chai Tea Latte",
          "Tazo® Chai Tea Latte",
          "Tazo® Chai Tea Latte",
          "Tazo® Chai Tea Latte",
          "Tazo® Chai Tea Latte",
          "Tazo® Chai Tea Latte",
          "Tazo® Chai Tea Latte",
          "Tazo® Chai Tea Latte"
         ],
         "yaxis": "y"
        },
        {
         "alignmentgroup": "True",
         "hovertemplate": "Beverage=%{y}<br>Calories=%{x}<extra></extra>",
         "legendgroup": "Caramel Macchiato",
         "marker": {
          "color": "#00cc96",
          "pattern": {
           "shape": ""
          }
         },
         "name": "Caramel Macchiato",
         "offsetgroup": "Caramel Macchiato",
         "orientation": "h",
         "showlegend": true,
         "textposition": "auto",
         "type": "bar",
         "x": [
          300,
          250,
          240,
          240,
          200,
          190,
          180,
          150,
          140,
          120,
          100,
          100
         ],
         "xaxis": "x",
         "y": [
          "Caramel Macchiato",
          "Caramel Macchiato",
          "Caramel Macchiato",
          "Caramel Macchiato",
          "Caramel Macchiato",
          "Caramel Macchiato",
          "Caramel Macchiato",
          "Caramel Macchiato",
          "Caramel Macchiato",
          "Caramel Macchiato",
          "Caramel Macchiato",
          "Caramel Macchiato"
         ],
         "yaxis": "y"
        },
        {
         "alignmentgroup": "True",
         "hovertemplate": "Beverage=%{y}<br>Calories=%{x}<extra></extra>",
         "legendgroup": "Banana Chocolate Smoothie",
         "marker": {
          "color": "#ab63fa",
          "pattern": {
           "shape": ""
          }
         },
         "name": "Banana Chocolate Smoothie",
         "offsetgroup": "Banana Chocolate Smoothie",
         "orientation": "h",
         "showlegend": true,
         "textposition": "auto",
         "type": "bar",
         "x": [
          300,
          290,
          280
         ],
         "xaxis": "x",
         "y": [
          "Banana Chocolate Smoothie",
          "Banana Chocolate Smoothie",
          "Banana Chocolate Smoothie"
         ],
         "yaxis": "y"
        },
        {
         "alignmentgroup": "True",
         "hovertemplate": "Beverage=%{y}<br>Calories=%{x}<extra></extra>",
         "legendgroup": "Strawberry Banana Smoothie",
         "marker": {
          "color": "#FFA15A",
          "pattern": {
           "shape": ""
          }
         },
         "name": "Strawberry Banana Smoothie",
         "offsetgroup": "Strawberry Banana Smoothie",
         "orientation": "h",
         "showlegend": true,
         "textposition": "auto",
         "type": "bar",
         "x": [
          290,
          290,
          290
         ],
         "xaxis": "x",
         "y": [
          "Strawberry Banana Smoothie",
          "Strawberry Banana Smoothie",
          "Strawberry Banana Smoothie"
         ],
         "yaxis": "y"
        },
        {
         "alignmentgroup": "True",
         "hovertemplate": "Beverage=%{y}<br>Calories=%{x}<extra></extra>",
         "legendgroup": "Java Chip",
         "marker": {
          "color": "#19d3f3",
          "pattern": {
           "shape": ""
          }
         },
         "name": "Java Chip",
         "offsetgroup": "Java Chip",
         "orientation": "h",
         "showlegend": true,
         "textposition": "auto",
         "type": "bar",
         "x": [
          290,
          220,
          150
         ],
         "xaxis": "x",
         "y": [
          "Java Chip",
          "Java Chip",
          "Java Chip"
         ],
         "yaxis": "y"
        },
        {
         "alignmentgroup": "True",
         "hovertemplate": "Beverage=%{y}<br>Calories=%{x}<extra></extra>",
         "legendgroup": "Orange Mango Banana Smoothie",
         "marker": {
          "color": "#FF6692",
          "pattern": {
           "shape": ""
          }
         },
         "name": "Orange Mango Banana Smoothie",
         "offsetgroup": "Orange Mango Banana Smoothie",
         "orientation": "h",
         "showlegend": true,
         "textposition": "auto",
         "type": "bar",
         "x": [
          270,
          270,
          260
         ],
         "xaxis": "x",
         "y": [
          "Orange Mango Banana Smoothie",
          "Orange Mango Banana Smoothie",
          "Orange Mango Banana Smoothie"
         ],
         "yaxis": "y"
        },
        {
         "alignmentgroup": "True",
         "hovertemplate": "Beverage=%{y}<br>Calories=%{x}<extra></extra>",
         "legendgroup": "Caffè Latte",
         "marker": {
          "color": "#B6E880",
          "pattern": {
           "shape": ""
          }
         },
         "name": "Caffè Latte",
         "offsetgroup": "Caffè Latte",
         "orientation": "h",
         "showlegend": true,
         "textposition": "auto",
         "type": "bar",
         "x": [
          240,
          190,
          190,
          170,
          150,
          150,
          130,
          110,
          100,
          100,
          70,
          70
         ],
         "xaxis": "x",
         "y": [
          "Caffè Latte",
          "Caffè Latte",
          "Caffè Latte",
          "Caffè Latte",
          "Caffè Latte",
          "Caffè Latte",
          "Caffè Latte",
          "Caffè Latte",
          "Caffè Latte",
          "Caffè Latte",
          "Caffè Latte",
          "Caffè Latte"
         ],
         "yaxis": "y"
        },
        {
         "alignmentgroup": "True",
         "hovertemplate": "Beverage=%{y}<br>Calories=%{x}<extra></extra>",
         "legendgroup": "Vanilla Bean (Without Whipped Cream)",
         "marker": {
          "color": "#FF97FF",
          "pattern": {
           "shape": ""
          }
         },
         "name": "Vanilla Bean (Without Whipped Cream)",
         "offsetgroup": "Vanilla Bean (Without Whipped Cream)",
         "orientation": "h",
         "showlegend": true,
         "textposition": "auto",
         "type": "bar",
         "x": [
          240,
          200,
          180,
          170
         ],
         "xaxis": "x",
         "y": [
          "Vanilla Bean (Without Whipped Cream)",
          "Vanilla Bean (Without Whipped Cream)",
          "Vanilla Bean (Without Whipped Cream)",
          "Vanilla Bean (Without Whipped Cream)"
         ],
         "yaxis": "y"
        },
        {
         "alignmentgroup": "True",
         "hovertemplate": "Beverage=%{y}<br>Calories=%{x}<extra></extra>",
         "legendgroup": "Tazo® Full-Leaf Red Tea Latte (Vanilla Rooibos)",
         "marker": {
          "color": "#FECB52",
          "pattern": {
           "shape": ""
          }
         },
         "name": "Tazo® Full-Leaf Red Tea Latte (Vanilla Rooibos)",
         "offsetgroup": "Tazo® Full-Leaf Red Tea Latte (Vanilla Rooibos)",
         "orientation": "h",
         "showlegend": true,
         "textposition": "auto",
         "type": "bar",
         "x": [
          230,
          210,
          190,
          190,
          170,
          150,
          140,
          130,
          120,
          90,
          80,
          80
         ],
         "xaxis": "x",
         "y": [
          "Tazo® Full-Leaf Red Tea Latte (Vanilla Rooibos)",
          "Tazo® Full-Leaf Red Tea Latte (Vanilla Rooibos)",
          "Tazo® Full-Leaf Red Tea Latte (Vanilla Rooibos)",
          "Tazo® Full-Leaf Red Tea Latte (Vanilla Rooibos)",
          "Tazo® Full-Leaf Red Tea Latte (Vanilla Rooibos)",
          "Tazo® Full-Leaf Red Tea Latte (Vanilla Rooibos)",
          "Tazo® Full-Leaf Red Tea Latte (Vanilla Rooibos)",
          "Tazo® Full-Leaf Red Tea Latte (Vanilla Rooibos)",
          "Tazo® Full-Leaf Red Tea Latte (Vanilla Rooibos)",
          "Tazo® Full-Leaf Red Tea Latte (Vanilla Rooibos)",
          "Tazo® Full-Leaf Red Tea Latte (Vanilla Rooibos)",
          "Tazo® Full-Leaf Red Tea Latte (Vanilla Rooibos)"
         ],
         "yaxis": "y"
        },
        {
         "alignmentgroup": "True",
         "hovertemplate": "Beverage=%{y}<br>Calories=%{x}<extra></extra>",
         "legendgroup": "Tazo® Full-Leaf Tea Latte",
         "marker": {
          "color": "#636efa",
          "pattern": {
           "shape": ""
          }
         },
         "name": "Tazo® Full-Leaf Tea Latte",
         "offsetgroup": "Tazo® Full-Leaf Tea Latte",
         "orientation": "h",
         "showlegend": true,
         "textposition": "auto",
         "type": "bar",
         "x": [
          230,
          210,
          190,
          190,
          170,
          150,
          140,
          130,
          120,
          90,
          80,
          80
         ],
         "xaxis": "x",
         "y": [
          "Tazo® Full-Leaf Tea Latte",
          "Tazo® Full-Leaf Tea Latte",
          "Tazo® Full-Leaf Tea Latte",
          "Tazo® Full-Leaf Tea Latte",
          "Tazo® Full-Leaf Tea Latte",
          "Tazo® Full-Leaf Tea Latte",
          "Tazo® Full-Leaf Tea Latte",
          "Tazo® Full-Leaf Tea Latte",
          "Tazo® Full-Leaf Tea Latte",
          "Tazo® Full-Leaf Tea Latte",
          "Tazo® Full-Leaf Tea Latte",
          "Tazo® Full-Leaf Tea Latte"
         ],
         "yaxis": "y"
        },
        {
         "alignmentgroup": "True",
         "hovertemplate": "Beverage=%{y}<br>Calories=%{x}<extra></extra>",
         "legendgroup": "Mocha",
         "marker": {
          "color": "#EF553B",
          "pattern": {
           "shape": ""
          }
         },
         "name": "Mocha",
         "offsetgroup": "Mocha",
         "orientation": "h",
         "showlegend": true,
         "textposition": "auto",
         "type": "bar",
         "x": [
          210,
          150,
          110
         ],
         "xaxis": "x",
         "y": [
          "Mocha",
          "Mocha",
          "Mocha"
         ],
         "yaxis": "y"
        },
        {
         "alignmentgroup": "True",
         "hovertemplate": "Beverage=%{y}<br>Calories=%{x}<extra></extra>",
         "legendgroup": "Caramel",
         "marker": {
          "color": "#00cc96",
          "pattern": {
           "shape": ""
          }
         },
         "name": "Caramel",
         "offsetgroup": "Caramel",
         "orientation": "h",
         "showlegend": true,
         "textposition": "auto",
         "type": "bar",
         "x": [
          200,
          150,
          100
         ],
         "xaxis": "x",
         "y": [
          "Caramel",
          "Caramel",
          "Caramel"
         ],
         "yaxis": "y"
        },
        {
         "alignmentgroup": "True",
         "hovertemplate": "Beverage=%{y}<br>Calories=%{x}<extra></extra>",
         "legendgroup": "Shaken Iced Tazo® Tea Lemonade (With Classic Syrup)",
         "marker": {
          "color": "#ab63fa",
          "pattern": {
           "shape": ""
          }
         },
         "name": "Shaken Iced Tazo® Tea Lemonade (With Classic Syrup)",
         "offsetgroup": "Shaken Iced Tazo® Tea Lemonade (With Classic Syrup)",
         "orientation": "h",
         "showlegend": true,
         "textposition": "auto",
         "type": "bar",
         "x": [
          190,
          130,
          100
         ],
         "xaxis": "x",
         "y": [
          "Shaken Iced Tazo® Tea Lemonade (With Classic Syrup)",
          "Shaken Iced Tazo® Tea Lemonade (With Classic Syrup)",
          "Shaken Iced Tazo® Tea Lemonade (With Classic Syrup)"
         ],
         "yaxis": "y"
        },
        {
         "alignmentgroup": "True",
         "hovertemplate": "Beverage=%{y}<br>Calories=%{x}<extra></extra>",
         "legendgroup": "Iced Brewed Coffee (With Milk & Classic Syrup)",
         "marker": {
          "color": "#FFA15A",
          "pattern": {
           "shape": ""
          }
         },
         "name": "Iced Brewed Coffee (With Milk & Classic Syrup)",
         "offsetgroup": "Iced Brewed Coffee (With Milk & Classic Syrup)",
         "orientation": "h",
         "showlegend": true,
         "textposition": "auto",
         "type": "bar",
         "x": [
          180,
          170,
          160,
          120,
          110,
          110,
          90,
          80,
          80
         ],
         "xaxis": "x",
         "y": [
          "Iced Brewed Coffee (With Milk & Classic Syrup)",
          "Iced Brewed Coffee (With Milk & Classic Syrup)",
          "Iced Brewed Coffee (With Milk & Classic Syrup)",
          "Iced Brewed Coffee (With Milk & Classic Syrup)",
          "Iced Brewed Coffee (With Milk & Classic Syrup)",
          "Iced Brewed Coffee (With Milk & Classic Syrup)",
          "Iced Brewed Coffee (With Milk & Classic Syrup)",
          "Iced Brewed Coffee (With Milk & Classic Syrup)",
          "Iced Brewed Coffee (With Milk & Classic Syrup)"
         ],
         "yaxis": "y"
        },
        {
         "alignmentgroup": "True",
         "hovertemplate": "Beverage=%{y}<br>Calories=%{x}<extra></extra>",
         "legendgroup": "Skinny Latte (Any Flavour)",
         "marker": {
          "color": "#19d3f3",
          "pattern": {
           "shape": ""
          }
         },
         "name": "Skinny Latte (Any Flavour)",
         "offsetgroup": "Skinny Latte (Any Flavour)",
         "orientation": "h",
         "showlegend": true,
         "textposition": "auto",
         "type": "bar",
         "x": [
          160,
          120,
          100,
          60
         ],
         "xaxis": "x",
         "y": [
          "Skinny Latte (Any Flavour)",
          "Skinny Latte (Any Flavour)",
          "Skinny Latte (Any Flavour)",
          "Skinny Latte (Any Flavour)"
         ],
         "yaxis": "y"
        },
        {
         "alignmentgroup": "True",
         "hovertemplate": "Beverage=%{y}<br>Calories=%{x}<extra></extra>",
         "legendgroup": "Cappuccino",
         "marker": {
          "color": "#FF6692",
          "pattern": {
           "shape": ""
          }
         },
         "name": "Cappuccino",
         "offsetgroup": "Cappuccino",
         "orientation": "h",
         "showlegend": true,
         "textposition": "auto",
         "type": "bar",
         "x": [
          150,
          120,
          120,
          110,
          100,
          90,
          80,
          80,
          70,
          60,
          50,
          50
         ],
         "xaxis": "x",
         "y": [
          "Cappuccino",
          "Cappuccino",
          "Cappuccino",
          "Cappuccino",
          "Cappuccino",
          "Cappuccino",
          "Cappuccino",
          "Cappuccino",
          "Cappuccino",
          "Cappuccino",
          "Cappuccino",
          "Cappuccino"
         ],
         "yaxis": "y"
        },
        {
         "alignmentgroup": "True",
         "hovertemplate": "Beverage=%{y}<br>Calories=%{x}<extra></extra>",
         "legendgroup": "Iced Brewed Coffee (With Classic Syrup)",
         "marker": {
          "color": "#B6E880",
          "pattern": {
           "shape": ""
          }
         },
         "name": "Iced Brewed Coffee (With Classic Syrup)",
         "offsetgroup": "Iced Brewed Coffee (With Classic Syrup)",
         "orientation": "h",
         "showlegend": true,
         "textposition": "auto",
         "type": "bar",
         "x": [
          130,
          90,
          60
         ],
         "xaxis": "x",
         "y": [
          "Iced Brewed Coffee (With Classic Syrup)",
          "Iced Brewed Coffee (With Classic Syrup)",
          "Iced Brewed Coffee (With Classic Syrup)"
         ],
         "yaxis": "y"
        },
        {
         "alignmentgroup": "True",
         "hovertemplate": "Beverage=%{y}<br>Calories=%{x}<extra></extra>",
         "legendgroup": "Shaken Iced Tazo® Tea (With Classic Syrup)",
         "marker": {
          "color": "#FF97FF",
          "pattern": {
           "shape": ""
          }
         },
         "name": "Shaken Iced Tazo® Tea (With Classic Syrup)",
         "offsetgroup": "Shaken Iced Tazo® Tea (With Classic Syrup)",
         "orientation": "h",
         "showlegend": true,
         "textposition": "auto",
         "type": "bar",
         "x": [
          120,
          80,
          60
         ],
         "xaxis": "x",
         "y": [
          "Shaken Iced Tazo® Tea (With Classic Syrup)",
          "Shaken Iced Tazo® Tea (With Classic Syrup)",
          "Shaken Iced Tazo® Tea (With Classic Syrup)"
         ],
         "yaxis": "y"
        },
        {
         "alignmentgroup": "True",
         "hovertemplate": "Beverage=%{y}<br>Calories=%{x}<extra></extra>",
         "legendgroup": "Caffè Americano",
         "marker": {
          "color": "#FECB52",
          "pattern": {
           "shape": ""
          }
         },
         "name": "Caffè Americano",
         "offsetgroup": "Caffè Americano",
         "orientation": "h",
         "showlegend": true,
         "textposition": "auto",
         "type": "bar",
         "x": [
          25,
          15,
          10,
          5
         ],
         "xaxis": "x",
         "y": [
          "Caffè Americano",
          "Caffè Americano",
          "Caffè Americano",
          "Caffè Americano"
         ],
         "yaxis": "y"
        },
        {
         "alignmentgroup": "True",
         "hovertemplate": "Beverage=%{y}<br>Calories=%{x}<extra></extra>",
         "legendgroup": "Espresso",
         "marker": {
          "color": "#636efa",
          "pattern": {
           "shape": ""
          }
         },
         "name": "Espresso",
         "offsetgroup": "Espresso",
         "orientation": "h",
         "showlegend": true,
         "textposition": "auto",
         "type": "bar",
         "x": [
          10,
          5
         ],
         "xaxis": "x",
         "y": [
          "Espresso",
          "Espresso"
         ],
         "yaxis": "y"
        },
        {
         "alignmentgroup": "True",
         "hovertemplate": "Beverage=%{y}<br>Calories=%{x}<extra></extra>",
         "legendgroup": "Brewed Coffee",
         "marker": {
          "color": "#EF553B",
          "pattern": {
           "shape": ""
          }
         },
         "name": "Brewed Coffee",
         "offsetgroup": "Brewed Coffee",
         "orientation": "h",
         "showlegend": true,
         "textposition": "auto",
         "type": "bar",
         "x": [
          5,
          5,
          4,
          3
         ],
         "xaxis": "x",
         "y": [
          "Brewed Coffee",
          "Brewed Coffee",
          "Brewed Coffee",
          "Brewed Coffee"
         ],
         "yaxis": "y"
        },
        {
         "alignmentgroup": "True",
         "hovertemplate": "Beverage=%{y}<br>Calories=%{x}<extra></extra>",
         "legendgroup": "Tazo® Tea",
         "marker": {
          "color": "#00cc96",
          "pattern": {
           "shape": ""
          }
         },
         "name": "Tazo® Tea",
         "offsetgroup": "Tazo® Tea",
         "orientation": "h",
         "showlegend": true,
         "textposition": "auto",
         "type": "bar",
         "x": [
          0,
          0,
          0,
          0
         ],
         "xaxis": "x",
         "y": [
          "Tazo® Tea",
          "Tazo® Tea",
          "Tazo® Tea",
          "Tazo® Tea"
         ],
         "yaxis": "y"
        }
       ],
       "layout": {
        "barmode": "relative",
        "legend": {
         "title": {
          "text": "Beverage"
         },
         "tracegroupgap": 0
        },
        "margin": {
         "t": 60
        },
        "template": {
         "data": {
          "bar": [
           {
            "error_x": {
             "color": "#2a3f5f"
            },
            "error_y": {
             "color": "#2a3f5f"
            },
            "marker": {
             "line": {
              "color": "#E5ECF6",
              "width": 0.5
             },
             "pattern": {
              "fillmode": "overlay",
              "size": 10,
              "solidity": 0.2
             }
            },
            "type": "bar"
           }
          ],
          "barpolar": [
           {
            "marker": {
             "line": {
              "color": "#E5ECF6",
              "width": 0.5
             },
             "pattern": {
              "fillmode": "overlay",
              "size": 10,
              "solidity": 0.2
             }
            },
            "type": "barpolar"
           }
          ],
          "carpet": [
           {
            "aaxis": {
             "endlinecolor": "#2a3f5f",
             "gridcolor": "white",
             "linecolor": "white",
             "minorgridcolor": "white",
             "startlinecolor": "#2a3f5f"
            },
            "baxis": {
             "endlinecolor": "#2a3f5f",
             "gridcolor": "white",
             "linecolor": "white",
             "minorgridcolor": "white",
             "startlinecolor": "#2a3f5f"
            },
            "type": "carpet"
           }
          ],
          "choropleth": [
           {
            "colorbar": {
             "outlinewidth": 0,
             "ticks": ""
            },
            "type": "choropleth"
           }
          ],
          "contour": [
           {
            "colorbar": {
             "outlinewidth": 0,
             "ticks": ""
            },
            "colorscale": [
             [
              0,
              "#0d0887"
             ],
             [
              0.1111111111111111,
              "#46039f"
             ],
             [
              0.2222222222222222,
              "#7201a8"
             ],
             [
              0.3333333333333333,
              "#9c179e"
             ],
             [
              0.4444444444444444,
              "#bd3786"
             ],
             [
              0.5555555555555556,
              "#d8576b"
             ],
             [
              0.6666666666666666,
              "#ed7953"
             ],
             [
              0.7777777777777778,
              "#fb9f3a"
             ],
             [
              0.8888888888888888,
              "#fdca26"
             ],
             [
              1,
              "#f0f921"
             ]
            ],
            "type": "contour"
           }
          ],
          "contourcarpet": [
           {
            "colorbar": {
             "outlinewidth": 0,
             "ticks": ""
            },
            "type": "contourcarpet"
           }
          ],
          "heatmap": [
           {
            "colorbar": {
             "outlinewidth": 0,
             "ticks": ""
            },
            "colorscale": [
             [
              0,
              "#0d0887"
             ],
             [
              0.1111111111111111,
              "#46039f"
             ],
             [
              0.2222222222222222,
              "#7201a8"
             ],
             [
              0.3333333333333333,
              "#9c179e"
             ],
             [
              0.4444444444444444,
              "#bd3786"
             ],
             [
              0.5555555555555556,
              "#d8576b"
             ],
             [
              0.6666666666666666,
              "#ed7953"
             ],
             [
              0.7777777777777778,
              "#fb9f3a"
             ],
             [
              0.8888888888888888,
              "#fdca26"
             ],
             [
              1,
              "#f0f921"
             ]
            ],
            "type": "heatmap"
           }
          ],
          "heatmapgl": [
           {
            "colorbar": {
             "outlinewidth": 0,
             "ticks": ""
            },
            "colorscale": [
             [
              0,
              "#0d0887"
             ],
             [
              0.1111111111111111,
              "#46039f"
             ],
             [
              0.2222222222222222,
              "#7201a8"
             ],
             [
              0.3333333333333333,
              "#9c179e"
             ],
             [
              0.4444444444444444,
              "#bd3786"
             ],
             [
              0.5555555555555556,
              "#d8576b"
             ],
             [
              0.6666666666666666,
              "#ed7953"
             ],
             [
              0.7777777777777778,
              "#fb9f3a"
             ],
             [
              0.8888888888888888,
              "#fdca26"
             ],
             [
              1,
              "#f0f921"
             ]
            ],
            "type": "heatmapgl"
           }
          ],
          "histogram": [
           {
            "marker": {
             "pattern": {
              "fillmode": "overlay",
              "size": 10,
              "solidity": 0.2
             }
            },
            "type": "histogram"
           }
          ],
          "histogram2d": [
           {
            "colorbar": {
             "outlinewidth": 0,
             "ticks": ""
            },
            "colorscale": [
             [
              0,
              "#0d0887"
             ],
             [
              0.1111111111111111,
              "#46039f"
             ],
             [
              0.2222222222222222,
              "#7201a8"
             ],
             [
              0.3333333333333333,
              "#9c179e"
             ],
             [
              0.4444444444444444,
              "#bd3786"
             ],
             [
              0.5555555555555556,
              "#d8576b"
             ],
             [
              0.6666666666666666,
              "#ed7953"
             ],
             [
              0.7777777777777778,
              "#fb9f3a"
             ],
             [
              0.8888888888888888,
              "#fdca26"
             ],
             [
              1,
              "#f0f921"
             ]
            ],
            "type": "histogram2d"
           }
          ],
          "histogram2dcontour": [
           {
            "colorbar": {
             "outlinewidth": 0,
             "ticks": ""
            },
            "colorscale": [
             [
              0,
              "#0d0887"
             ],
             [
              0.1111111111111111,
              "#46039f"
             ],
             [
              0.2222222222222222,
              "#7201a8"
             ],
             [
              0.3333333333333333,
              "#9c179e"
             ],
             [
              0.4444444444444444,
              "#bd3786"
             ],
             [
              0.5555555555555556,
              "#d8576b"
             ],
             [
              0.6666666666666666,
              "#ed7953"
             ],
             [
              0.7777777777777778,
              "#fb9f3a"
             ],
             [
              0.8888888888888888,
              "#fdca26"
             ],
             [
              1,
              "#f0f921"
             ]
            ],
            "type": "histogram2dcontour"
           }
          ],
          "mesh3d": [
           {
            "colorbar": {
             "outlinewidth": 0,
             "ticks": ""
            },
            "type": "mesh3d"
           }
          ],
          "parcoords": [
           {
            "line": {
             "colorbar": {
              "outlinewidth": 0,
              "ticks": ""
             }
            },
            "type": "parcoords"
           }
          ],
          "pie": [
           {
            "automargin": true,
            "type": "pie"
           }
          ],
          "scatter": [
           {
            "fillpattern": {
             "fillmode": "overlay",
             "size": 10,
             "solidity": 0.2
            },
            "type": "scatter"
           }
          ],
          "scatter3d": [
           {
            "line": {
             "colorbar": {
              "outlinewidth": 0,
              "ticks": ""
             }
            },
            "marker": {
             "colorbar": {
              "outlinewidth": 0,
              "ticks": ""
             }
            },
            "type": "scatter3d"
           }
          ],
          "scattercarpet": [
           {
            "marker": {
             "colorbar": {
              "outlinewidth": 0,
              "ticks": ""
             }
            },
            "type": "scattercarpet"
           }
          ],
          "scattergeo": [
           {
            "marker": {
             "colorbar": {
              "outlinewidth": 0,
              "ticks": ""
             }
            },
            "type": "scattergeo"
           }
          ],
          "scattergl": [
           {
            "marker": {
             "colorbar": {
              "outlinewidth": 0,
              "ticks": ""
             }
            },
            "type": "scattergl"
           }
          ],
          "scattermapbox": [
           {
            "marker": {
             "colorbar": {
              "outlinewidth": 0,
              "ticks": ""
             }
            },
            "type": "scattermapbox"
           }
          ],
          "scatterpolar": [
           {
            "marker": {
             "colorbar": {
              "outlinewidth": 0,
              "ticks": ""
             }
            },
            "type": "scatterpolar"
           }
          ],
          "scatterpolargl": [
           {
            "marker": {
             "colorbar": {
              "outlinewidth": 0,
              "ticks": ""
             }
            },
            "type": "scatterpolargl"
           }
          ],
          "scatterternary": [
           {
            "marker": {
             "colorbar": {
              "outlinewidth": 0,
              "ticks": ""
             }
            },
            "type": "scatterternary"
           }
          ],
          "surface": [
           {
            "colorbar": {
             "outlinewidth": 0,
             "ticks": ""
            },
            "colorscale": [
             [
              0,
              "#0d0887"
             ],
             [
              0.1111111111111111,
              "#46039f"
             ],
             [
              0.2222222222222222,
              "#7201a8"
             ],
             [
              0.3333333333333333,
              "#9c179e"
             ],
             [
              0.4444444444444444,
              "#bd3786"
             ],
             [
              0.5555555555555556,
              "#d8576b"
             ],
             [
              0.6666666666666666,
              "#ed7953"
             ],
             [
              0.7777777777777778,
              "#fb9f3a"
             ],
             [
              0.8888888888888888,
              "#fdca26"
             ],
             [
              1,
              "#f0f921"
             ]
            ],
            "type": "surface"
           }
          ],
          "table": [
           {
            "cells": {
             "fill": {
              "color": "#EBF0F8"
             },
             "line": {
              "color": "white"
             }
            },
            "header": {
             "fill": {
              "color": "#C8D4E3"
             },
             "line": {
              "color": "white"
             }
            },
            "type": "table"
           }
          ]
         },
         "layout": {
          "annotationdefaults": {
           "arrowcolor": "#2a3f5f",
           "arrowhead": 0,
           "arrowwidth": 1
          },
          "autotypenumbers": "strict",
          "coloraxis": {
           "colorbar": {
            "outlinewidth": 0,
            "ticks": ""
           }
          },
          "colorscale": {
           "diverging": [
            [
             0,
             "#8e0152"
            ],
            [
             0.1,
             "#c51b7d"
            ],
            [
             0.2,
             "#de77ae"
            ],
            [
             0.3,
             "#f1b6da"
            ],
            [
             0.4,
             "#fde0ef"
            ],
            [
             0.5,
             "#f7f7f7"
            ],
            [
             0.6,
             "#e6f5d0"
            ],
            [
             0.7,
             "#b8e186"
            ],
            [
             0.8,
             "#7fbc41"
            ],
            [
             0.9,
             "#4d9221"
            ],
            [
             1,
             "#276419"
            ]
           ],
           "sequential": [
            [
             0,
             "#0d0887"
            ],
            [
             0.1111111111111111,
             "#46039f"
            ],
            [
             0.2222222222222222,
             "#7201a8"
            ],
            [
             0.3333333333333333,
             "#9c179e"
            ],
            [
             0.4444444444444444,
             "#bd3786"
            ],
            [
             0.5555555555555556,
             "#d8576b"
            ],
            [
             0.6666666666666666,
             "#ed7953"
            ],
            [
             0.7777777777777778,
             "#fb9f3a"
            ],
            [
             0.8888888888888888,
             "#fdca26"
            ],
            [
             1,
             "#f0f921"
            ]
           ],
           "sequentialminus": [
            [
             0,
             "#0d0887"
            ],
            [
             0.1111111111111111,
             "#46039f"
            ],
            [
             0.2222222222222222,
             "#7201a8"
            ],
            [
             0.3333333333333333,
             "#9c179e"
            ],
            [
             0.4444444444444444,
             "#bd3786"
            ],
            [
             0.5555555555555556,
             "#d8576b"
            ],
            [
             0.6666666666666666,
             "#ed7953"
            ],
            [
             0.7777777777777778,
             "#fb9f3a"
            ],
            [
             0.8888888888888888,
             "#fdca26"
            ],
            [
             1,
             "#f0f921"
            ]
           ]
          },
          "colorway": [
           "#636efa",
           "#EF553B",
           "#00cc96",
           "#ab63fa",
           "#FFA15A",
           "#19d3f3",
           "#FF6692",
           "#B6E880",
           "#FF97FF",
           "#FECB52"
          ],
          "font": {
           "color": "#2a3f5f"
          },
          "geo": {
           "bgcolor": "white",
           "lakecolor": "white",
           "landcolor": "#E5ECF6",
           "showlakes": true,
           "showland": true,
           "subunitcolor": "white"
          },
          "hoverlabel": {
           "align": "left"
          },
          "hovermode": "closest",
          "mapbox": {
           "style": "light"
          },
          "paper_bgcolor": "white",
          "plot_bgcolor": "#E5ECF6",
          "polar": {
           "angularaxis": {
            "gridcolor": "white",
            "linecolor": "white",
            "ticks": ""
           },
           "bgcolor": "#E5ECF6",
           "radialaxis": {
            "gridcolor": "white",
            "linecolor": "white",
            "ticks": ""
           }
          },
          "scene": {
           "xaxis": {
            "backgroundcolor": "#E5ECF6",
            "gridcolor": "white",
            "gridwidth": 2,
            "linecolor": "white",
            "showbackground": true,
            "ticks": "",
            "zerolinecolor": "white"
           },
           "yaxis": {
            "backgroundcolor": "#E5ECF6",
            "gridcolor": "white",
            "gridwidth": 2,
            "linecolor": "white",
            "showbackground": true,
            "ticks": "",
            "zerolinecolor": "white"
           },
           "zaxis": {
            "backgroundcolor": "#E5ECF6",
            "gridcolor": "white",
            "gridwidth": 2,
            "linecolor": "white",
            "showbackground": true,
            "ticks": "",
            "zerolinecolor": "white"
           }
          },
          "shapedefaults": {
           "line": {
            "color": "#2a3f5f"
           }
          },
          "ternary": {
           "aaxis": {
            "gridcolor": "white",
            "linecolor": "white",
            "ticks": ""
           },
           "baxis": {
            "gridcolor": "white",
            "linecolor": "white",
            "ticks": ""
           },
           "bgcolor": "#E5ECF6",
           "caxis": {
            "gridcolor": "white",
            "linecolor": "white",
            "ticks": ""
           }
          },
          "title": {
           "x": 0.05
          },
          "xaxis": {
           "automargin": true,
           "gridcolor": "white",
           "linecolor": "white",
           "ticks": "",
           "title": {
            "standoff": 15
           },
           "zerolinecolor": "white",
           "zerolinewidth": 2
          },
          "yaxis": {
           "automargin": true,
           "gridcolor": "white",
           "linecolor": "white",
           "ticks": "",
           "title": {
            "standoff": 15
           },
           "zerolinecolor": "white",
           "zerolinewidth": 2
          }
         }
        },
        "xaxis": {
         "anchor": "y",
         "domain": [
          0,
          1
         ],
         "title": {
          "text": "Calories"
         }
        },
        "yaxis": {
         "anchor": "x",
         "categoryarray": [
          "Tazo® Tea",
          "Brewed Coffee",
          "Espresso",
          "Caffè Americano",
          "Shaken Iced Tazo® Tea (With Classic Syrup)",
          "Iced Brewed Coffee (With Classic Syrup)",
          "Cappuccino",
          "Skinny Latte (Any Flavour)",
          "Iced Brewed Coffee (With Milk & Classic Syrup)",
          "Shaken Iced Tazo® Tea Lemonade (With Classic Syrup)",
          "Caramel",
          "Mocha",
          "Tazo® Full-Leaf Tea Latte",
          "Tazo® Full-Leaf Red Tea Latte (Vanilla Rooibos)",
          "Vanilla Bean (Without Whipped Cream)",
          "Caffè Latte",
          "Orange Mango Banana Smoothie",
          "Java Chip",
          "Strawberry Banana Smoothie",
          "Banana Chocolate Smoothie",
          "Caramel Macchiato",
          "Tazo® Chai Tea Latte",
          "Vanilla Latte (Or Other Flavoured Latte)",
          "Caffè Mocha (Without Whipped Cream)",
          "Coffee",
          "Strawberries & Crème (Without Whipped Cream)",
          "Caramel Apple Spice (Without Whipped Cream)",
          "Caramel (Without Whipped Cream)",
          "Hot Chocolate (Without Whipped Cream)",
          "Mocha (Without Whipped Cream)",
          "Tazo® Green Tea Latte",
          "Java Chip (Without Whipped Cream)",
          "White Chocolate Mocha (Without Whipped Cream)"
         ],
         "categoryorder": "array",
         "domain": [
          0,
          1
         ],
         "title": {
          "text": "Beverage"
         }
        }
       }
      }
     },
     "metadata": {},
     "output_type": "display_data"
    }
   ],
   "source": [
    "# White Chocolate Mocha (Without Whipped Cream) 2% Milk \n",
    "p = px.bar(df, y='Beverage', x='Calories', color='Beverage')\n",
    "p.show()\n",
    "\n"
   ]
  },
  {
   "cell_type": "code",
   "execution_count": 185,
   "metadata": {},
   "outputs": [
    {
     "data": {
      "text/html": [
       "<div>\n",
       "<style scoped>\n",
       "    .dataframe tbody tr th:only-of-type {\n",
       "        vertical-align: middle;\n",
       "    }\n",
       "\n",
       "    .dataframe tbody tr th {\n",
       "        vertical-align: top;\n",
       "    }\n",
       "\n",
       "    .dataframe thead th {\n",
       "        text-align: right;\n",
       "    }\n",
       "</style>\n",
       "<table border=\"1\" class=\"dataframe\">\n",
       "  <thead>\n",
       "    <tr style=\"text-align: right;\">\n",
       "      <th></th>\n",
       "      <th>Beverage_category</th>\n",
       "      <th>Beverage</th>\n",
       "      <th>Beverage_prep</th>\n",
       "      <th>Calories</th>\n",
       "      <th>Total Fat (g)</th>\n",
       "      <th>Sodium (mg)</th>\n",
       "      <th>Total Carbohydrates (g)</th>\n",
       "      <th>Cholesterol (mg)</th>\n",
       "      <th>Sugars (g)</th>\n",
       "      <th>Protein (g)</th>\n",
       "      <th>Vitamin A (% DV)</th>\n",
       "      <th>Vitamin C (% DV)</th>\n",
       "      <th>Calcium (% DV)</th>\n",
       "      <th>Iron (% DV)</th>\n",
       "      <th>Caffeine (mg)</th>\n",
       "    </tr>\n",
       "  </thead>\n",
       "  <tbody>\n",
       "    <tr>\n",
       "      <th>215</th>\n",
       "      <td>Frappuccino® Blended Coffee</td>\n",
       "      <td>Java Chip (Without Whipped Cream)</td>\n",
       "      <td>Whole Milk</td>\n",
       "      <td>460</td>\n",
       "      <td>10</td>\n",
       "      <td>15</td>\n",
       "      <td>340</td>\n",
       "      <td>90</td>\n",
       "      <td>84</td>\n",
       "      <td>7.0</td>\n",
       "      <td>6%</td>\n",
       "      <td>0%</td>\n",
       "      <td>15%</td>\n",
       "      <td>35%</td>\n",
       "      <td>145</td>\n",
       "    </tr>\n",
       "    <tr>\n",
       "      <th>214</th>\n",
       "      <td>Frappuccino® Blended Coffee</td>\n",
       "      <td>Java Chip (Without Whipped Cream)</td>\n",
       "      <td>Venti Nonfat Milk</td>\n",
       "      <td>420</td>\n",
       "      <td>5</td>\n",
       "      <td>5</td>\n",
       "      <td>340</td>\n",
       "      <td>90</td>\n",
       "      <td>84</td>\n",
       "      <td>7.0</td>\n",
       "      <td>10%</td>\n",
       "      <td>0%</td>\n",
       "      <td>20%</td>\n",
       "      <td>35%</td>\n",
       "      <td>145</td>\n",
       "    </tr>\n",
       "  </tbody>\n",
       "</table>\n",
       "</div>"
      ],
      "text/plain": [
       "               Beverage_category                           Beverage  \\\n",
       "215  Frappuccino® Blended Coffee  Java Chip (Without Whipped Cream)   \n",
       "214  Frappuccino® Blended Coffee  Java Chip (Without Whipped Cream)   \n",
       "\n",
       "         Beverage_prep  Calories  Total Fat (g)   Sodium (mg)  \\\n",
       "215         Whole Milk       460             10            15   \n",
       "214  Venti Nonfat Milk       420              5             5   \n",
       "\n",
       "      Total Carbohydrates (g)   Cholesterol (mg)   Sugars (g)   Protein (g)   \\\n",
       "215                        340                90           84            7.0   \n",
       "214                        340                90           84            7.0   \n",
       "\n",
       "    Vitamin A (% DV)  Vitamin C (% DV)  Calcium (% DV)  Iron (% DV)   \\\n",
       "215                6%               0%              15%          35%   \n",
       "214               10%               0%              20%          35%   \n",
       "\n",
       "    Caffeine (mg)  \n",
       "215           145  \n",
       "214           145  "
      ]
     },
     "execution_count": 185,
     "metadata": {},
     "output_type": "execute_result"
    },
    {
     "data": {
      "image/png": "[encoded data removed]",
      "text/plain": [
       "<Figure size 432x288 with 1 Axes>"
      ]
     },
     "metadata": {
      "needs_background": "light"
     },
     "output_type": "display_data"
    }
   ],
   "source": [
    "# -Q2. Which drink has the highest sugar content?\n",
    "#  Java Chip (Without Whipped Cream) Whole Milk and Venti Nonfat Milk\n",
    "x,y,_= plt.hist(df[' Sugars (g)'])\n",
    "df.loc[df[' Sugars (g)'] == y.max()]"
   ]
  },
  {
   "cell_type": "code",
   "execution_count": 173,
   "metadata": {},
   "outputs": [
    {
     "data": {
      "image/png": "[encoded data removed]",
      "text/plain": [
       "<Figure size 432x288 with 1 Axes>"
      ]
     },
     "metadata": {
      "needs_background": "light"
     },
     "output_type": "display_data"
    }
   ],
   "source": [
    "# -Q2. Which drink has the highest sugar content?\n",
    "#  Java Chip (Without Whipped Cream) Whole Milk and Venti Nonfat Milk\n",
    "s =sns.barplot(y=df['Beverage'].head(20), x=df[' Sugars (g)'].head(20),data=df.sort_values(by=' Sugars (g)', ascending=False))"
   ]
  },
  {
   "cell_type": "code",
   "execution_count": 174,
   "metadata": {},
   "outputs": [
    {
     "data": {
      "application/vnd.plotly.v1+json": {
       "config": {
        "plotlyServerURL": "https://plot.ly"
       },
       "data": [
        {
         "alignmentgroup": "True",
         "hovertemplate": "Beverage=%{y}<br> Sugars (g)=%{x}<extra></extra>",
         "legendgroup": "Java Chip (Without Whipped Cream)",
         "marker": {
          "color": "#636efa",
          "pattern": {
           "shape": ""
          }
         },
         "name": "Java Chip (Without Whipped Cream)",
         "offsetgroup": "Java Chip (Without Whipped Cream)",
         "orientation": "h",
         "showlegend": true,
         "textposition": "auto",
         "type": "bar",
         "x": [
          84,
          84,
          80
         ],
         "xaxis": "x",
         "y": [
          "Java Chip (Without Whipped Cream)",
          "Java Chip (Without Whipped Cream)",
          "Java Chip (Without Whipped Cream)"
         ],
         "yaxis": "y"
        },
        {
         "alignmentgroup": "True",
         "hovertemplate": "Beverage=%{y}<br> Sugars (g)=%{x}<extra></extra>",
         "legendgroup": "Caramel Apple Spice (Without Whipped Cream)",
         "marker": {
          "color": "#EF553B",
          "pattern": {
           "shape": ""
          }
         },
         "name": "Caramel Apple Spice (Without Whipped Cream)",
         "offsetgroup": "Caramel Apple Spice (Without Whipped Cream)",
         "orientation": "h",
         "showlegend": true,
         "textposition": "auto",
         "type": "bar",
         "x": [
          83,
          65
         ],
         "xaxis": "x",
         "y": [
          "Caramel Apple Spice (Without Whipped Cream)",
          "Caramel Apple Spice (Without Whipped Cream)"
         ],
         "yaxis": "y"
        },
        {
         "alignmentgroup": "True",
         "hovertemplate": "Beverage=%{y}<br> Sugars (g)=%{x}<extra></extra>",
         "legendgroup": "Caramel (Without Whipped Cream)",
         "marker": {
          "color": "#00cc96",
          "pattern": {
           "shape": ""
          }
         },
         "name": "Caramel (Without Whipped Cream)",
         "offsetgroup": "Caramel (Without Whipped Cream)",
         "orientation": "h",
         "showlegend": true,
         "textposition": "auto",
         "type": "bar",
         "x": [
          77,
          77,
          73
         ],
         "xaxis": "x",
         "y": [
          "Caramel (Without Whipped Cream)",
          "Caramel (Without Whipped Cream)",
          "Caramel (Without Whipped Cream)"
         ],
         "yaxis": "y"
        },
        {
         "alignmentgroup": "True",
         "hovertemplate": "Beverage=%{y}<br> Sugars (g)=%{x}<extra></extra>",
         "legendgroup": "Mocha (Without Whipped Cream)",
         "marker": {
          "color": "#ab63fa",
          "pattern": {
           "shape": ""
          }
         },
         "name": "Mocha (Without Whipped Cream)",
         "offsetgroup": "Mocha (Without Whipped Cream)",
         "orientation": "h",
         "showlegend": true,
         "textposition": "auto",
         "type": "bar",
         "x": [
          76,
          76,
          73
         ],
         "xaxis": "x",
         "y": [
          "Mocha (Without Whipped Cream)",
          "Mocha (Without Whipped Cream)",
          "Mocha (Without Whipped Cream)"
         ],
         "yaxis": "y"
        },
        {
         "alignmentgroup": "True",
         "hovertemplate": "Beverage=%{y}<br> Sugars (g)=%{x}<extra></extra>",
         "legendgroup": "White Chocolate Mocha (Without Whipped Cream)",
         "marker": {
          "color": "#FFA15A",
          "pattern": {
           "shape": ""
          }
         },
         "name": "White Chocolate Mocha (Without Whipped Cream)",
         "offsetgroup": "White Chocolate Mocha (Without Whipped Cream)",
         "orientation": "h",
         "showlegend": true,
         "textposition": "auto",
         "type": "bar",
         "x": [
          74,
          74
         ],
         "xaxis": "x",
         "y": [
          "White Chocolate Mocha (Without Whipped Cream)",
          "White Chocolate Mocha (Without Whipped Cream)"
         ],
         "yaxis": "y"
        },
        {
         "alignmentgroup": "True",
         "hovertemplate": "Beverage=%{y}<br> Sugars (g)=%{x}<extra></extra>",
         "legendgroup": "Tazo® Green Tea Latte",
         "marker": {
          "color": "#19d3f3",
          "pattern": {
           "shape": ""
          }
         },
         "name": "Tazo® Green Tea Latte",
         "offsetgroup": "Tazo® Green Tea Latte",
         "orientation": "h",
         "showlegend": true,
         "textposition": "auto",
         "type": "bar",
         "x": [
          71,
          71
         ],
         "xaxis": "x",
         "y": [
          "Tazo® Green Tea Latte",
          "Tazo® Green Tea Latte"
         ],
         "yaxis": "y"
        },
        {
         "alignmentgroup": "True",
         "hovertemplate": "Beverage=%{y}<br> Sugars (g)=%{x}<extra></extra>",
         "legendgroup": "Coffee",
         "marker": {
          "color": "#FF6692",
          "pattern": {
           "shape": ""
          }
         },
         "name": "Coffee",
         "offsetgroup": "Coffee",
         "orientation": "h",
         "showlegend": true,
         "textposition": "auto",
         "type": "bar",
         "x": [
          69,
          69,
          66
         ],
         "xaxis": "x",
         "y": [
          "Coffee",
          "Coffee",
          "Coffee"
         ],
         "yaxis": "y"
        },
        {
         "alignmentgroup": "True",
         "hovertemplate": "Beverage=%{y}<br> Sugars (g)=%{x}<extra></extra>",
         "legendgroup": "Strawberries & Crème (Without Whipped Cream)",
         "marker": {
          "color": "#B6E880",
          "pattern": {
           "shape": ""
          }
         },
         "name": "Strawberries & Crème (Without Whipped Cream)",
         "offsetgroup": "Strawberries & Crème (Without Whipped Cream)",
         "orientation": "h",
         "showlegend": true,
         "textposition": "auto",
         "type": "bar",
         "x": [
          69,
          68
         ],
         "xaxis": "x",
         "y": [
          "Strawberries & Crème (Without Whipped Cream)",
          "Strawberries & Crème (Without Whipped Cream)"
         ],
         "yaxis": "y"
        }
       ],
       "layout": {
        "barmode": "relative",
        "legend": {
         "title": {
          "text": "Beverage"
         },
         "tracegroupgap": 0
        },
        "margin": {
         "t": 60
        },
        "template": {
         "data": {
          "bar": [
           {
            "error_x": {
             "color": "#2a3f5f"
            },
            "error_y": {
             "color": "#2a3f5f"
            },
            "marker": {
             "line": {
              "color": "#E5ECF6",
              "width": 0.5
             },
             "pattern": {
              "fillmode": "overlay",
              "size": 10,
              "solidity": 0.2
             }
            },
            "type": "bar"
           }
          ],
          "barpolar": [
           {
            "marker": {
             "line": {
              "color": "#E5ECF6",
              "width": 0.5
             },
             "pattern": {
              "fillmode": "overlay",
              "size": 10,
              "solidity": 0.2
             }
            },
            "type": "barpolar"
           }
          ],
          "carpet": [
           {
            "aaxis": {
             "endlinecolor": "#2a3f5f",
             "gridcolor": "white",
             "linecolor": "white",
             "minorgridcolor": "white",
             "startlinecolor": "#2a3f5f"
            },
            "baxis": {
             "endlinecolor": "#2a3f5f",
             "gridcolor": "white",
             "linecolor": "white",
             "minorgridcolor": "white",
             "startlinecolor": "#2a3f5f"
            },
            "type": "carpet"
           }
          ],
          "choropleth": [
           {
            "colorbar": {
             "outlinewidth": 0,
             "ticks": ""
            },
            "type": "choropleth"
           }
          ],
          "contour": [
           {
            "colorbar": {
             "outlinewidth": 0,
             "ticks": ""
            },
            "colorscale": [
             [
              0,
              "#0d0887"
             ],
             [
              0.1111111111111111,
              "#46039f"
             ],
             [
              0.2222222222222222,
              "#7201a8"
             ],
             [
              0.3333333333333333,
              "#9c179e"
             ],
             [
              0.4444444444444444,
              "#bd3786"
             ],
             [
              0.5555555555555556,
              "#d8576b"
             ],
             [
              0.6666666666666666,
              "#ed7953"
             ],
             [
              0.7777777777777778,
              "#fb9f3a"
             ],
             [
              0.8888888888888888,
              "#fdca26"
             ],
             [
              1,
              "#f0f921"
             ]
            ],
            "type": "contour"
           }
          ],
          "contourcarpet": [
           {
            "colorbar": {
             "outlinewidth": 0,
             "ticks": ""
            },
            "type": "contourcarpet"
           }
          ],
          "heatmap": [
           {
            "colorbar": {
             "outlinewidth": 0,
             "ticks": ""
            },
            "colorscale": [
             [
              0,
              "#0d0887"
             ],
             [
              0.1111111111111111,
              "#46039f"
             ],
             [
              0.2222222222222222,
              "#7201a8"
             ],
             [
              0.3333333333333333,
              "#9c179e"
             ],
             [
              0.4444444444444444,
              "#bd3786"
             ],
             [
              0.5555555555555556,
              "#d8576b"
             ],
             [
              0.6666666666666666,
              "#ed7953"
             ],
             [
              0.7777777777777778,
              "#fb9f3a"
             ],
             [
              0.8888888888888888,
              "#fdca26"
             ],
             [
              1,
              "#f0f921"
             ]
            ],
            "type": "heatmap"
           }
          ],
          "heatmapgl": [
           {
            "colorbar": {
             "outlinewidth": 0,
             "ticks": ""
            },
            "colorscale": [
             [
              0,
              "#0d0887"
             ],
             [
              0.1111111111111111,
              "#46039f"
             ],
             [
              0.2222222222222222,
              "#7201a8"
             ],
             [
              0.3333333333333333,
              "#9c179e"
             ],
             [
              0.4444444444444444,
              "#bd3786"
             ],
             [
              0.5555555555555556,
              "#d8576b"
             ],
             [
              0.6666666666666666,
              "#ed7953"
             ],
             [
              0.7777777777777778,
              "#fb9f3a"
             ],
             [
              0.8888888888888888,
              "#fdca26"
             ],
             [
              1,
              "#f0f921"
             ]
            ],
            "type": "heatmapgl"
           }
          ],
          "histogram": [
           {
            "marker": {
             "pattern": {
              "fillmode": "overlay",
              "size": 10,
              "solidity": 0.2
             }
            },
            "type": "histogram"
           }
          ],
          "histogram2d": [
           {
            "colorbar": {
             "outlinewidth": 0,
             "ticks": ""
            },
            "colorscale": [
             [
              0,
              "#0d0887"
             ],
             [
              0.1111111111111111,
              "#46039f"
             ],
             [
              0.2222222222222222,
              "#7201a8"
             ],
             [
              0.3333333333333333,
              "#9c179e"
             ],
             [
              0.4444444444444444,
              "#bd3786"
             ],
             [
              0.5555555555555556,
              "#d8576b"
             ],
             [
              0.6666666666666666,
              "#ed7953"
             ],
             [
              0.7777777777777778,
              "#fb9f3a"
             ],
             [
              0.8888888888888888,
              "#fdca26"
             ],
             [
              1,
              "#f0f921"
             ]
            ],
            "type": "histogram2d"
           }
          ],
          "histogram2dcontour": [
           {
            "colorbar": {
             "outlinewidth": 0,
             "ticks": ""
            },
            "colorscale": [
             [
              0,
              "#0d0887"
             ],
             [
              0.1111111111111111,
              "#46039f"
             ],
             [
              0.2222222222222222,
              "#7201a8"
             ],
             [
              0.3333333333333333,
              "#9c179e"
             ],
             [
              0.4444444444444444,
              "#bd3786"
             ],
             [
              0.5555555555555556,
              "#d8576b"
             ],
             [
              0.6666666666666666,
              "#ed7953"
             ],
             [
              0.7777777777777778,
              "#fb9f3a"
             ],
             [
              0.8888888888888888,
              "#fdca26"
             ],
             [
              1,
              "#f0f921"
             ]
            ],
            "type": "histogram2dcontour"
           }
          ],
          "mesh3d": [
           {
            "colorbar": {
             "outlinewidth": 0,
             "ticks": ""
            },
            "type": "mesh3d"
           }
          ],
          "parcoords": [
           {
            "line": {
             "colorbar": {
              "outlinewidth": 0,
              "ticks": ""
             }
            },
            "type": "parcoords"
           }
          ],
          "pie": [
           {
            "automargin": true,
            "type": "pie"
           }
          ],
          "scatter": [
           {
            "fillpattern": {
             "fillmode": "overlay",
             "size": 10,
             "solidity": 0.2
            },
            "type": "scatter"
           }
          ],
          "scatter3d": [
           {
            "line": {
             "colorbar": {
              "outlinewidth": 0,
              "ticks": ""
             }
            },
            "marker": {
             "colorbar": {
              "outlinewidth": 0,
              "ticks": ""
             }
            },
            "type": "scatter3d"
           }
          ],
          "scattercarpet": [
           {
            "marker": {
             "colorbar": {
              "outlinewidth": 0,
              "ticks": ""
             }
            },
            "type": "scattercarpet"
           }
          ],
          "scattergeo": [
           {
            "marker": {
             "colorbar": {
              "outlinewidth": 0,
              "ticks": ""
             }
            },
            "type": "scattergeo"
           }
          ],
          "scattergl": [
           {
            "marker": {
             "colorbar": {
              "outlinewidth": 0,
              "ticks": ""
             }
            },
            "type": "scattergl"
           }
          ],
          "scattermapbox": [
           {
            "marker": {
             "colorbar": {
              "outlinewidth": 0,
              "ticks": ""
             }
            },
            "type": "scattermapbox"
           }
          ],
          "scatterpolar": [
           {
            "marker": {
             "colorbar": {
              "outlinewidth": 0,
              "ticks": ""
             }
            },
            "type": "scatterpolar"
           }
          ],
          "scatterpolargl": [
           {
            "marker": {
             "colorbar": {
              "outlinewidth": 0,
              "ticks": ""
             }
            },
            "type": "scatterpolargl"
           }
          ],
          "scatterternary": [
           {
            "marker": {
             "colorbar": {
              "outlinewidth": 0,
              "ticks": ""
             }
            },
            "type": "scatterternary"
           }
          ],
          "surface": [
           {
            "colorbar": {
             "outlinewidth": 0,
             "ticks": ""
            },
            "colorscale": [
             [
              0,
              "#0d0887"
             ],
             [
              0.1111111111111111,
              "#46039f"
             ],
             [
              0.2222222222222222,
              "#7201a8"
             ],
             [
              0.3333333333333333,
              "#9c179e"
             ],
             [
              0.4444444444444444,
              "#bd3786"
             ],
             [
              0.5555555555555556,
              "#d8576b"
             ],
             [
              0.6666666666666666,
              "#ed7953"
             ],
             [
              0.7777777777777778,
              "#fb9f3a"
             ],
             [
              0.8888888888888888,
              "#fdca26"
             ],
             [
              1,
              "#f0f921"
             ]
            ],
            "type": "surface"
           }
          ],
          "table": [
           {
            "cells": {
             "fill": {
              "color": "#EBF0F8"
             },
             "line": {
              "color": "white"
             }
            },
            "header": {
             "fill": {
              "color": "#C8D4E3"
             },
             "line": {
              "color": "white"
             }
            },
            "type": "table"
           }
          ]
         },
         "layout": {
          "annotationdefaults": {
           "arrowcolor": "#2a3f5f",
           "arrowhead": 0,
           "arrowwidth": 1
          },
          "autotypenumbers": "strict",
          "coloraxis": {
           "colorbar": {
            "outlinewidth": 0,
            "ticks": ""
           }
          },
          "colorscale": {
           "diverging": [
            [
             0,
             "#8e0152"
            ],
            [
             0.1,
             "#c51b7d"
            ],
            [
             0.2,
             "#de77ae"
            ],
            [
             0.3,
             "#f1b6da"
            ],
            [
             0.4,
             "#fde0ef"
            ],
            [
             0.5,
             "#f7f7f7"
            ],
            [
             0.6,
             "#e6f5d0"
            ],
            [
             0.7,
             "#b8e186"
            ],
            [
             0.8,
             "#7fbc41"
            ],
            [
             0.9,
             "#4d9221"
            ],
            [
             1,
             "#276419"
            ]
           ],
           "sequential": [
            [
             0,
             "#0d0887"
            ],
            [
             0.1111111111111111,
             "#46039f"
            ],
            [
             0.2222222222222222,
             "#7201a8"
            ],
            [
             0.3333333333333333,
             "#9c179e"
            ],
            [
             0.4444444444444444,
             "#bd3786"
            ],
            [
             0.5555555555555556,
             "#d8576b"
            ],
            [
             0.6666666666666666,
             "#ed7953"
            ],
            [
             0.7777777777777778,
             "#fb9f3a"
            ],
            [
             0.8888888888888888,
             "#fdca26"
            ],
            [
             1,
             "#f0f921"
            ]
           ],
           "sequentialminus": [
            [
             0,
             "#0d0887"
            ],
            [
             0.1111111111111111,
             "#46039f"
            ],
            [
             0.2222222222222222,
             "#7201a8"
            ],
            [
             0.3333333333333333,
             "#9c179e"
            ],
            [
             0.4444444444444444,
             "#bd3786"
            ],
            [
             0.5555555555555556,
             "#d8576b"
            ],
            [
             0.6666666666666666,
             "#ed7953"
            ],
            [
             0.7777777777777778,
             "#fb9f3a"
            ],
            [
             0.8888888888888888,
             "#fdca26"
            ],
            [
             1,
             "#f0f921"
            ]
           ]
          },
          "colorway": [
           "#636efa",
           "#EF553B",
           "#00cc96",
           "#ab63fa",
           "#FFA15A",
           "#19d3f3",
           "#FF6692",
           "#B6E880",
           "#FF97FF",
           "#FECB52"
          ],
          "font": {
           "color": "#2a3f5f"
          },
          "geo": {
           "bgcolor": "white",
           "lakecolor": "white",
           "landcolor": "#E5ECF6",
           "showlakes": true,
           "showland": true,
           "subunitcolor": "white"
          },
          "hoverlabel": {
           "align": "left"
          },
          "hovermode": "closest",
          "mapbox": {
           "style": "light"
          },
          "paper_bgcolor": "white",
          "plot_bgcolor": "#E5ECF6",
          "polar": {
           "angularaxis": {
            "gridcolor": "white",
            "linecolor": "white",
            "ticks": ""
           },
           "bgcolor": "#E5ECF6",
           "radialaxis": {
            "gridcolor": "white",
            "linecolor": "white",
            "ticks": ""
           }
          },
          "scene": {
           "xaxis": {
            "backgroundcolor": "#E5ECF6",
            "gridcolor": "white",
            "gridwidth": 2,
            "linecolor": "white",
            "showbackground": true,
            "ticks": "",
            "zerolinecolor": "white"
           },
           "yaxis": {
            "backgroundcolor": "#E5ECF6",
            "gridcolor": "white",
            "gridwidth": 2,
            "linecolor": "white",
            "showbackground": true,
            "ticks": "",
            "zerolinecolor": "white"
           },
           "zaxis": {
            "backgroundcolor": "#E5ECF6",
            "gridcolor": "white",
            "gridwidth": 2,
            "linecolor": "white",
            "showbackground": true,
            "ticks": "",
            "zerolinecolor": "white"
           }
          },
          "shapedefaults": {
           "line": {
            "color": "#2a3f5f"
           }
          },
          "ternary": {
           "aaxis": {
            "gridcolor": "white",
            "linecolor": "white",
            "ticks": ""
           },
           "baxis": {
            "gridcolor": "white",
            "linecolor": "white",
            "ticks": ""
           },
           "bgcolor": "#E5ECF6",
           "caxis": {
            "gridcolor": "white",
            "linecolor": "white",
            "ticks": ""
           }
          },
          "title": {
           "x": 0.05
          },
          "xaxis": {
           "automargin": true,
           "gridcolor": "white",
           "linecolor": "white",
           "ticks": "",
           "title": {
            "standoff": 15
           },
           "zerolinecolor": "white",
           "zerolinewidth": 2
          },
          "yaxis": {
           "automargin": true,
           "gridcolor": "white",
           "linecolor": "white",
           "ticks": "",
           "title": {
            "standoff": 15
           },
           "zerolinecolor": "white",
           "zerolinewidth": 2
          }
         }
        },
        "xaxis": {
         "anchor": "y",
         "domain": [
          0,
          1
         ],
         "title": {
          "text": " Sugars (g)"
         }
        },
        "yaxis": {
         "anchor": "x",
         "categoryarray": [
          "Strawberries & Crème (Without Whipped Cream)",
          "Coffee",
          "Tazo® Green Tea Latte",
          "White Chocolate Mocha (Without Whipped Cream)",
          "Mocha (Without Whipped Cream)",
          "Caramel (Without Whipped Cream)",
          "Caramel Apple Spice (Without Whipped Cream)",
          "Java Chip (Without Whipped Cream)"
         ],
         "categoryorder": "array",
         "domain": [
          0,
          1
         ],
         "title": {
          "text": "Beverage"
         }
        }
       }
      }
     },
     "metadata": {},
     "output_type": "display_data"
    }
   ],
   "source": [
    "# -Q2. Which drink has the highest sugar content?\n",
    "#  Java Chip (Without Whipped Cream) Whole Milk and Venti Nonfat Milk\n",
    "df  = df.sort_values(by=' Sugars (g)', ascending=False)\n",
    "pl = px.bar(df.head(20), y='Beverage', x=' Sugars (g)', color='Beverage')\n",
    "pl.show()\n"
   ]
  }
 ],
 "metadata": {
  "kernelspec": {
   "display_name": "Python 3.10.4 64-bit",
   "language": "python",
   "name": "python3"
  },
  "language_info": {
   "codemirror_mode": {
    "name": "ipython",
    "version": 3
   },
   "file_extension": ".py",
   "mimetype": "text/x-python",
   "name": "python",
   "nbconvert_exporter": "python",
   "pygments_lexer": "ipython3",
   "version": "3.10.4"
  },
  "orig_nbformat": 4,
  "vscode": {
   "interpreter": {
    "hash": "afb734500600fd355917ca529030176ea0ca205570884b88f2f6f7d791fd3fbe"
   }
  }
 },
 "nbformat": 4,
 "nbformat_minor": 2
}
